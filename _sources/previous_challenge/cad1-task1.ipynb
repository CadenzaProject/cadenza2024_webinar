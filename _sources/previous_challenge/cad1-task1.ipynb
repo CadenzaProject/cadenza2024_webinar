{
 "nbformat": 4,
 "nbformat_minor": 0,
 "metadata": {
  "colab": {
   "provenance": []
  },
  "kernelspec": {
   "name": "python3",
   "display_name": "Python 3 (ipykernel)",
   "language": "python"
  },
  "language_info": {
   "name": "python"
  }
 },
 "cells": [
  {
   "cell_type": "markdown",
   "source": [
    "# Baseline CAD1 Task1\n",
    "\n",
    "This tutorial walks through the process of running the CAD1 Task1 baseline using the shell Interface\n"
   ],
   "metadata": {
    "id": "tC4jbs5yqzYw"
   }
  },
  {
   "cell_type": "markdown",
   "source": [
    "## Setting the Location of the Project\n",
    "\n",
    "For convenience, we are setting an environment variable with the location of the root working directory of the project. This variable will be used in various places throughout the tutorial. Please change this value to reflect where you have installed this notebook on your system."
   ],
   "metadata": {
    "id": "qdqZ0zD2Fjnn"
   }
  },
  {
   "cell_type": "code",
   "metadata": {
    "id": "Ig9vUNPcquS_",
    "colab": {
     "base_uri": "https://localhost:8080/"
    },
    "outputId": "2d0e1561-cf3e-4b19-d605-17f8fb399e26",
    "ExecuteTime": {
     "end_time": "2024-08-21T08:54:25.478164Z",
     "start_time": "2024-08-21T08:54:25.463771Z"
    }
   },
   "source": [
    "import os\n",
    "os.environ[\"NBOOKROOT\"] = os.getcwd()\n",
    "os.getenv(\"NBOOKROOT\")"
   ],
   "outputs": [
    {
     "data": {
      "text/plain": [
       "'/home/gerardoroadabike/Extended/Projects/cadenza_tutorials/baselines'"
      ]
     },
     "execution_count": 1,
     "metadata": {},
     "output_type": "execute_result"
    }
   ],
   "execution_count": 1
  },
  {
   "cell_type": "markdown",
   "source": [
    "## Cloning the Clarity Repository\n",
    "We first need to install the Clarity package."
   ],
   "metadata": {
    "id": "pajpylpbFud6"
   }
  },
  {
   "cell_type": "code",
   "source": [
    "print(\"Cloning git repo...\")\n",
    "!git clone --quiet https://github.com/claritychallenge/clarity.git\n",
    "%cd clarity\n",
    "%pip install -e .\n",
    "import os\n",
    "import sys\n",
    "\n",
    "sys.path.append(f'{os.getenv(\"NBOOKROOT\")}/clarity')\n",
    "from IPython.display import clear_output\n",
    "\n",
    "clear_output()\n",
    "print(\"Repository installed\")"
   ],
   "metadata": {
    "id": "zL0yLZUvFr9P",
    "colab": {
     "base_uri": "https://localhost:8080/"
    },
    "outputId": "7434b909-ac71-4f3f-c163-2d5870317e9c"
   },
   "execution_count": 2,
   "outputs": [
    {
     "name": "stdout",
     "output_type": "stream",
     "text": [
      "Repository installed\n"
     ]
    }
   ]
  },
  {
   "cell_type": "markdown",
   "source": [
    "## Get the demo data\n",
    "\n",
    "We will be using music audio and listener metadata."
   ],
   "metadata": {
    "id": "8pXJVSt-F-NN"
   }
  },
  {
   "cell_type": "code",
   "source": [
    "!gdown 10SfuZR7yVlVO6RwNUc3kPeJHGiwpN3VS\n",
    "!mv cadenza_data_demo.tar.xz recipes/cad1/task1/baseline\n",
    "%cd recipes/cad1/task1/baseline\n",
    "!tar -xvf cadenza_data_demo.tar.xz\n",
    "\n",
    "clear_output()\n",
    "print(\"Data installed\")"
   ],
   "metadata": {
    "id": "TpG-bGs8Fzgl",
    "colab": {
     "base_uri": "https://localhost:8080/"
    },
    "outputId": "438666a1-ac21-4532-a340-baefee85202d"
   },
   "execution_count": 6,
   "outputs": [
    {
     "name": "stdout",
     "output_type": "stream",
     "text": [
      "Data installed\n"
     ]
    }
   ]
  },
  {
   "cell_type": "markdown",
   "source": [
    "## Changing working Directory\n",
    "\n",
    "Next, we change working directory to the location of the shell scripts we wish to run."
   ],
   "metadata": {
    "id": "a0gQKwx8GnfD"
   }
  },
  {
   "cell_type": "code",
   "source": "%cd {os.environ['NBOOKROOT']}/clarity/recipes/cad1/task1/baseline",
   "metadata": {
    "id": "fopV37z6GSoO",
    "colab": {
     "base_uri": "https://localhost:8080/",
     "height": 53
    },
    "outputId": "791191b3-6176-427c-bc62-63cd45196b57",
    "ExecuteTime": {
     "end_time": "2024-08-21T08:55:06.465559Z",
     "start_time": "2024-08-21T08:55:06.454349Z"
    }
   },
   "outputs": [
    {
     "name": "stdout",
     "output_type": "stream",
     "text": [
      "/home/gerardoroadabike/Extended/Projects/cadenza_tutorials/baselines/clarity/recipes/cad1/task1/baseline\n"
     ]
    }
   ],
   "execution_count": 5
  },
  {
   "cell_type": "markdown",
   "source": [
    "## Inspecting Existing Configuration\n",
    "\n",
    "Let's inspect the `config.yml` file."
   ],
   "metadata": {
    "id": "jWFEskB3HgGM"
   }
  },
  {
   "metadata": {},
   "cell_type": "markdown",
   "source": [
    "```yaml\n",
    "path:\n",
    "  root: ../../cadenza_data_demo/cad1/task1\n",
    "  metadata_dir: ${path.root}/metadata\n",
    "  music_dir: ${path.root}/audio/musdb18hq\n",
    "  music_file: ${path.metadata_dir}/musdb18.valid.json\n",
    "  listeners_file: ${path.metadata_dir}/listeners.valid.json\n",
    "  music_segments_test_file: ${path.metadata_dir}/musdb18.segments.test.json\n",
    "  exp_folder: ./exp_${separator.model} # folder to store enhanced signals and final results\n",
    "\n",
    "team_id: T001\n",
    "\n",
    "sample_rate: 44100       # sample rate of the input mixture\n",
    "stem_sample_rate: 24000  # sample rate output stems\n",
    "remix_sample_rate: 32000 # sample rate for output remixed signal\n",
    "\n",
    "nalr:\n",
    "  nfir: 220\n",
    "  sample_rate: ${sample_rate}\n",
    "\n",
    "apply_compressor: False\n",
    "compressor:\n",
    "  threshold: 0.35\n",
    "  attenuation: 0.1\n",
    "  attack: 50\n",
    "  release: 1000\n",
    "  rms_buffer_size: 0.064\n",
    "\n",
    "soft_clip: True\n",
    "\n",
    "separator:\n",
    "  model: demucs   # demucs or openunmix\n",
    "  device: ~\n",
    "\n",
    "evaluate:\n",
    "  set_random_seed: True\n",
    "  small_test: False\n",
    "  batch_size: 1  # Number of batches\n",
    "  batch: 0       # Batch number to evaluate\n",
    "\n",
    "# hydra config\n",
    "hydra:\n",
    "  run:\n",
    "    dir: ${path.exp_folder}\n",
    "```"
   ]
  },
  {
   "cell_type": "markdown",
   "source": [
    "## Running Enhancement \n",
    "\n",
    "We are now ready to run the `enhance.py` python script. However, the standard configuration is designed to work with the full dataset. We can redirect the script to the correct folders by overriding the appropriate configuration parameters."
   ],
   "metadata": {
    "id": "quq_sa9fIyTK"
   }
  },
  {
   "cell_type": "code",
   "source": "!python enhance.py path.root={os.environ['NBOOKROOT']}/clarity/recipes/cad1/task1/baseline/cadenza_data_demo/cad1/task1",
   "metadata": {
    "id": "NnDcNpa-Iv03",
    "colab": {
     "base_uri": "https://localhost:8080/"
    },
    "outputId": "aabb3c37-4f25-4d32-dc1b-e2fb9644e366",
    "ExecuteTime": {
     "end_time": "2024-08-21T09:10:27.416561Z",
     "start_time": "2024-08-21T09:05:32.096793Z"
    }
   },
   "outputs": [
    {
     "name": "stdout",
     "output_type": "stream",
     "text": [
      "/home/gerardoroadabike/Extended/Projects/cadenza_tutorials/baselines/clarity/recipes/cad1/task1/baseline/evaluate.py:155: UserWarning: \r\n",
      "The version_base parameter is not specified.\r\n",
      "Please specify a compatability version level, or None.\r\n",
      "Will assume defaults for version 1.1\r\n",
      "  @hydra.main(config_path=\"\", config_name=\"config\")\r\n",
      "/home/gerardoroadabike/Extended/Projects/cadenza_tutorials/baselines/clarity/recipes/cad1/task1/baseline/enhance.py:350: UserWarning: \r\n",
      "The version_base parameter is not specified.\r\n",
      "Please specify a compatability version level, or None.\r\n",
      "Will assume defaults for version 1.1\r\n",
      "  @hydra.main(config_path=\"\", config_name=\"config\")\r\n",
      "/home/gerardoroadabike/anaconda3/envs/clarity39/lib/python3.10/site-packages/hydra/_internal/hydra.py:119: UserWarning: Future Hydra versions will no longer change working directory at job runtime by default.\r\n",
      "See https://hydra.cc/docs/1.2/upgrades/1.1_to_1.2/changes_to_job_working_dir/ for more information.\r\n",
      "  ret = run_job(\r\n",
      "[2024-08-21 10:05:38,435][torchaudio.utils.download][INFO] - The local file (/home/gerardoroadabike/.cache/torch/hub/torchaudio/models/hdemucs_high_musdbhq_only.pt) exists. Skipping the download.\r\n",
      "[2024-08-21 10:05:40,018][__main__][INFO] - [001/002] Processing Actions - One Minute Smile for L5076...\r\n",
      "[2024-08-21 10:10:17,808][__main__][INFO] - [002/002] Processing Actions - One Minute Smile for L5040...\r\n"
     ]
    }
   ],
   "execution_count": 13
  },
  {
   "cell_type": "markdown",
   "source": "Now we have the enhanced output. Below, we can load and play the audios to listen the results.",
   "metadata": {
    "id": "8Xg_KoBXLFni"
   }
  },
  {
   "cell_type": "code",
   "source": [
    "from pathlib import Path\n",
    "from scipy.io import wavfile\n",
    "\n",
    "import IPython.display as ipd\n",
    "\n",
    "audio_path = Path(\"exp_demucs/enhanced_signals\")\n",
    "audio_files = [f for f in audio_path.glob('*/*/*') if f.suffix == '.wav']\n",
    "\n",
    "for file_to_play in audio_files:\n",
    "  sample_rate, signal = wavfile.read(file_to_play)\n",
    "  # Take only 30 seconds\n",
    "  if signal.shape[-1] == 1:\n",
    "    signal = signal[30*sample_rate: 60*sample_rate, :]\n",
    "  else:\n",
    "    signal = signal[30*sample_rate: 60*sample_rate]\n",
    "  print(file_to_play.name)\n",
    "  ipd.display(ipd.Audio(signal.T, rate=sample_rate))"
   ],
   "metadata": {
    "id": "RdddH8k_JOyR"
   },
   "execution_count": null,
   "outputs": []
  },
  {
   "cell_type": "markdown",
   "source": "Now that we have enhanced audios we can use the evaluate the outputs by using the HAAQI metric. The evaluation is run in the same manner as the enhancement script.",
   "metadata": {
    "id": "nMKBDkc4Nsl_"
   }
  },
  {
   "cell_type": "code",
   "source": "!python evaluate.py path.root={os.environ['NBOOKROOT']}/clarity/recipes/cad1/task1/baseline/cadenza_data_demo/cad1/task1",
   "metadata": {
    "id": "BFvYiF15LJEu"
   },
   "execution_count": null,
   "outputs": []
  },
  {
   "cell_type": "code",
   "source": [],
   "metadata": {
    "id": "uEgjJQd6N655"
   },
   "execution_count": null,
   "outputs": []
  }
 ]
}
