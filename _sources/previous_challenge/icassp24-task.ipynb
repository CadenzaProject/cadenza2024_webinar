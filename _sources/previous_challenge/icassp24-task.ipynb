{
 "nbformat": 4,
 "nbformat_minor": 0,
 "metadata": {
  "colab": {
   "provenance": []
  },
  "kernelspec": {
   "name": "python3",
   "display_name": "Python 3 (ipykernel)",
   "language": "python"
  },
  "language_info": {
   "name": "python"
  }
 },
 "cells": [
  {
   "cell_type": "markdown",
   "source": [
    "# Baseline ICASSP 2024 Grand Challenge\n",
    "\n",
    "This tutorial walks through the process of running the ICASSP Grand Challenge baseline using the shell Interface\n"
   ],
   "metadata": {
    "id": "tC4jbs5yqzYw"
   }
  },
  {
   "cell_type": "markdown",
   "source": [
    "## Setting the Location of the Project\n",
    "\n",
    "For convenience, we are setting an environment variable with the location of the root working directory of the project. This variable will be used in various places throughout the tutorial. Please change this value to reflect where you have installed this notebook on your system."
   ],
   "metadata": {
    "id": "qdqZ0zD2Fjnn"
   }
  },
  {
   "cell_type": "code",
   "metadata": {
    "id": "Ig9vUNPcquS_",
    "colab": {
     "base_uri": "https://localhost:8080/"
    },
    "outputId": "2d0e1561-cf3e-4b19-d605-17f8fb399e26",
    "ExecuteTime": {
     "end_time": "2024-08-21T12:50:40.012878Z",
     "start_time": "2024-08-21T12:50:40.002245Z"
    }
   },
   "source": [
    "import os\n",
    "os.environ[\"NBOOKROOT\"] = os.getcwd()\n",
    "os.getenv(\"NBOOKROOT\")"
   ],
   "outputs": [
    {
     "data": {
      "text/plain": [
       "'/home/gerardoroadabike/Extended/Projects/cadenza_tutorials/baselines'"
      ]
     },
     "execution_count": 1,
     "metadata": {},
     "output_type": "execute_result"
    }
   ],
   "execution_count": 1
  },
  {
   "cell_type": "markdown",
   "source": [
    "## Installing Clarity Tag v0.4.1\n",
    "We first need to install the Clarity package. For this we use the tag version for the challenge."
   ],
   "metadata": {
    "id": "pajpylpbFud6"
   }
  },
  {
   "cell_type": "code",
   "source": [
    "from IPython.display import clear_output\n",
    "\n",
    "import os\n",
    "import sys\n",
    "\n",
    "print(\"Cloning git repo...\")\n",
    "!git clone --depth 1 --branch v0.4.1 https://github.com/claritychallenge/clarity.git\n",
    "%cd clarity\n",
    "\n",
    "%pip install -e .\n",
    "\n",
    "sys.path.append(f'{os.getenv(\"NBOOKROOT\")}/clarity')\n",
    "\n",
    "clear_output()\n",
    "print(\"Repository installed\")"
   ],
   "metadata": {
    "id": "zL0yLZUvFr9P",
    "colab": {
     "base_uri": "https://localhost:8080/"
    },
    "outputId": "7434b909-ac71-4f3f-c163-2d5870317e9c"
   },
   "execution_count": 19,
   "outputs": [
    {
     "name": "stdout",
     "output_type": "stream",
     "text": [
      "Repository installed\n"
     ]
    }
   ]
  },
  {
   "cell_type": "markdown",
   "source": [
    "## Get the demo data\n",
    "\n",
    "We will be using music audio and listener metadata."
   ],
   "metadata": {
    "id": "8pXJVSt-F-NN"
   }
  },
  {
   "cell_type": "code",
   "source": [
    "!gdown 1mZdh_BeUrFzGQrG6vjJnU97EDfFooLLN\n",
    "!mv demo_data_icassp_2024.tar.xz recipes/cad_icassp_2024/baseline\n",
    "%cd recipes/cad_icassp_2024/baseline\n",
    "!tar -xvf demo_data_icassp_2024.tar.xz\n",
    "\n",
    "clear_output()\n",
    "print(\"Data installed\")"
   ],
   "metadata": {
    "id": "TpG-bGs8Fzgl",
    "colab": {
     "base_uri": "https://localhost:8080/"
    },
    "outputId": "438666a1-ac21-4532-a340-baefee85202d"
   },
   "outputs": [],
   "execution_count": null
  },
  {
   "cell_type": "markdown",
   "source": [
    "## Changing working Directory\n",
    "\n",
    "Next, we change working directory to the location of the shell scripts we wish to run."
   ],
   "metadata": {
    "id": "a0gQKwx8GnfD"
   }
  },
  {
   "cell_type": "code",
   "source": "%cd {os.environ['NBOOKROOT']}/clarity/recipes/cad_icassp_2024/baseline",
   "metadata": {
    "id": "fopV37z6GSoO",
    "colab": {
     "base_uri": "https://localhost:8080/",
     "height": 53
    },
    "outputId": "791191b3-6176-427c-bc62-63cd45196b57"
   },
   "outputs": [],
   "execution_count": null
  },
  {
   "cell_type": "markdown",
   "source": [
    "## Inspecting Existing Configuration\n",
    "\n",
    "All of the included shell scripts take configurable variables from the yaml files in the same directory as the shell script.Typically these are named <code>config.yaml</code>, however, other names may be used if more than one shell script is in a directory.\n",
    "\n",
    "We can inspect the contents of the config file using <code>!cat</code>:"
   ],
   "metadata": {
    "id": "jWFEskB3HgGM"
   }
  },
  {
   "metadata": {},
   "cell_type": "markdown",
   "source": [
    "```yaml\n",
    "path:\n",
    "  root: ???\n",
    "  metadata_dir: ${path.root}/metadata\n",
    "  music_dir: ${path.root}/audio/at_mic_music\n",
    "  gains_file: ${path.metadata_dir}/gains.json\n",
    "  head_positions_file: ${path.metadata_dir}/head_positions.json\n",
    "  listeners_file: ${path.metadata_dir}/listeners.train.json\n",
    "  music_file: ${path.metadata_dir}/at_mic_music.train.json\n",
    "  scenes_file: ${path.metadata_dir}/scenes.train.json\n",
    "  scene_listeners_file: ${path.metadata_dir}/scene_listeners.train.json\n",
    "  exp_folder: ./exp # folder to store enhanced signals and final results\n",
    "\n",
    "sample_rate: 44100\n",
    "remix_sample_rate: 32000\n",
    "HAAQI_sample_rate: 24000\n",
    "\n",
    "nalr:\n",
    "  nfir: 220\n",
    "  sample_rate: ${sample_rate}\n",
    "\n",
    "apply_compressor: False\n",
    "compressor:\n",
    "  threshold: 0.35\n",
    "  attenuation: 0.1\n",
    "  attack: 50\n",
    "  release: 1000\n",
    "  rms_buffer_size: 0.064\n",
    "\n",
    "soft_clip: False\n",
    "\n",
    "separator:\n",
    "  model: demucs   # demucs or openunmix\n",
    "  device: ~\n",
    "\n",
    "evaluate:\n",
    "  set_random_seed: True\n",
    "  small_test: False\n",
    "  batch_size: 1  # Number of batches\n",
    "  batch: 0       # Batch number to evaluate\n",
    "\n",
    "# hydra config\n",
    "hydra:\n",
    "  run:\n",
    "    dir: ${path.exp_folder}\n",
    "```"
   ]
  },
  {
   "cell_type": "markdown",
   "source": [
    "## Running Enhancement\n",
    "\n",
    "We are now ready to run the `enhance.py` python script. However, the standard configuration is designed to work with the full dataset. We can redirect the script to the correct folders by overriding the appropriate configuration parameters."
   ],
   "metadata": {
    "id": "oCGGqlrjIo9w"
   }
  },
  {
   "cell_type": "code",
   "source": "!python enhance.py path.root={os.environ['NBOOKROOT']}/clarity/recipes/cad_icassp_2024/baseline/demo_data_icassp_2024/cad_icassp_2024 'path.listeners_file=${path.metadata_dir}/listeners.valid.json' 'path.scenes_file=${path.metadata_dir}/scenes.valid.json' 'path.scene_listeners_file=${path.metadata_dir}/scene_listeners.valid.json'",
   "metadata": {
    "id": "NnDcNpa-Iv03",
    "colab": {
     "base_uri": "https://localhost:8080/"
    },
    "outputId": "aabb3c37-4f25-4d32-dc1b-e2fb9644e366",
    "ExecuteTime": {
     "end_time": "2024-08-21T14:49:43.909793Z",
     "start_time": "2024-08-21T14:49:40.708005Z"
    }
   },
   "outputs": [
    {
     "name": "stdout",
     "output_type": "stream",
     "text": [
      "/home/gerardoroadabike/Extended/Projects/cadenza_tutorials/baselines/clarity/recipes/cad_icassp_2024/baseline/evaluate.py:190: UserWarning: \r\n",
      "The version_base parameter is not specified.\r\n",
      "Please specify a compatability version level, or None.\r\n",
      "Will assume defaults for version 1.1\r\n",
      "  @hydra.main(config_path=\"\", config_name=\"config\")\r\n",
      "/home/gerardoroadabike/Extended/Projects/cadenza_tutorials/baselines/clarity/recipes/cad_icassp_2024/baseline/enhance.py:182: UserWarning: \r\n",
      "The version_base parameter is not specified.\r\n",
      "Please specify a compatability version level, or None.\r\n",
      "Will assume defaults for version 1.1\r\n",
      "  @hydra.main(config_path=\"\", config_name=\"config\")\r\n",
      "no viable alternative at input '{os.environ['\r\n",
      "See https://hydra.cc/docs/1.2/advanced/override_grammar/basic for details\r\n",
      "\r\n",
      "Set the environment variable HYDRA_FULL_ERROR=1 for a complete stack trace.\r\n"
     ]
    }
   ],
   "execution_count": 40
  },
  {
   "cell_type": "markdown",
   "source": [
    "Now we have the enhanced output. Below, we can load and play the audio to listen to examples of the results."
   ],
   "metadata": {
    "id": "8Xg_KoBXLFni"
   }
  },
  {
   "cell_type": "code",
   "source": [
    "from os import listdir\n",
    "from os.path import isfile, join\n",
    "from pathlib import Path\n",
    "from scipy.io import wavfile\n",
    "\n",
    "import IPython.display as ipd\n",
    "\n",
    "audio_path = Path(\"exp/enhanced_signals\")\n",
    "audio_files = [f for f in audio_path.glob('*/*/*') if f.suffix == '.wav']\n",
    "\n",
    "for file_to_play in audio_files:\n",
    "  sample_rate, signal = wavfile.read(file_to_play)\n",
    "  # Take only 30 seconds\n",
    "  if signal.shape[-1] == 1:\n",
    "    signal = signal[30*sample_rate:60*sample_rate, :]\n",
    "  else:\n",
    "    signal = signal[30*sample_rate:60*sample_rate]\n",
    "  print(file_to_play.name)\n",
    "  ipd.display(ipd.Audio(signal.T, rate=sample_rate))"
   ],
   "metadata": {
    "id": "RdddH8k_JOyR"
   },
   "execution_count": null,
   "outputs": []
  },
  {
   "cell_type": "markdown",
   "source": [
    "Now that we have enhanced audios we can use the evaluate recipe to generate HAAQI scores for the signals. The evaluation is run in the same manner as the enhancement script."
   ],
   "metadata": {
    "id": "nMKBDkc4Nsl_"
   }
  },
  {
   "cell_type": "code",
   "source": [
    "%%shell\n",
    "python evaluate.py \\\n",
    "path.root=../cadenza_data_demo/cad1"
   ],
   "metadata": {
    "id": "BFvYiF15LJEu"
   },
   "execution_count": null,
   "outputs": []
  },
  {
   "cell_type": "markdown",
   "source": [
    "We hope that this tutorial has been useful and has explained the process for using the recipe scripts using the Hydra configuration system. This approach can be applied to all of the recipes that are included in the repository."
   ],
   "metadata": {
    "id": "K9yB6XdlOCRp"
   }
  },
  {
   "cell_type": "code",
   "source": [],
   "metadata": {
    "id": "uEgjJQd6N655"
   },
   "execution_count": null,
   "outputs": []
  }
 ]
}
