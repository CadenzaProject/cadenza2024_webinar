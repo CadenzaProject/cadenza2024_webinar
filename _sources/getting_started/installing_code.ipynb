{
 "cells": [
  {
   "cell_type": "markdown",
   "metadata": {
    "id": "H9xz0X7bn6qt"
   },
   "source": [
    "# The Clarity/Cadenza codebase\n",
    "\n",
    "This tutorial walks you through the process of installing the Clarity/Cadenza Python package."
   ]
  },
  {
   "cell_type": "markdown",
   "metadata": {
    "id": "Pq2bO-rVoEpx"
   },
   "source": [
    "## Download and install the Clarity/Cadenza Python package\n",
    "\n",
    "Clarity and Cadenza challenges tools can be found at the Clarity GitHub [website](https://github.com/claritychallenge/clarity).\n",
    "The tools are available as a Python package and can be installed using pip.\n",
    "\n",
    "```{image} ../figures/pyclarity.png\n",
    ":alt: PyClarity\n",
    ":class: bg-primary mb-1\n",
    ":width: 400px\n",
    ":align: center\n",
    "```\n",
    "\n",
    "### Tag policy\n",
    "\n",
    "The Clarity/Cadenza package is versioned using tags. The tag policy is as follows:\n",
    "\n",
    "- The `main` branch is the development branch. This branch contains the latest version of the code \n",
    "- Each `tag` corresponds to a specific challenge.\n",
    "\n",
    "| Challenge | Tag Version |\n",
    "|:----------|:-----------:|\n",
    "| CAD2 | v0.6.0 |\n",
    "| ICASSP 2024 |  v0.4.1 |\n",
    "| CAD | v0.3.4 |\n"
   ]
  },
  {
   "cell_type": "markdown",
   "metadata": {
    "id": "GUJgkjt3pB8w"
   },
   "source": [
    "To work with the Clarity/Cadenza projects, we recommend to create a clean Python environment.\n",
    "\n",
    "You can create a new environment using conda as:\n",
    "\n",
    "```bash\n",
    "print(\"Creating the environment...\")\n",
    "conda create --quiet --yes -n clarity python=3.10\n",
    "\n",
    "print(\"Activating the environment...\")\n",
    "conda activate clarity\n",
    "\n",
    "print(\"Cloning git repo...\")\n",
    "git clone --quiet https://github.com/claritychallenge/clarity.git\n",
    "```\n",
    "\n",
    "This will install the last version of PyClarity. To install a tagged version, for example, v0.6.0, you can clone the repository as:\n",
    "\n",
    "```bash\n",
    "git clone --depth 1 --branch v0.6.0 https://github.com/claritychallenge/clarity.git\n",
    "```"
   ]
  },
  {
   "cell_type": "markdown",
   "metadata": {
    "id": "tlwvhldyoV6a"
   },
   "source": [
    "This will have made a directory called <code>clarity</code> storing the repository code.\n",
    "Now we can install the Clarity tools.\n",
    "\n",
    "```bash\n",
    "\n",
    "print(\"Changing directory...\")\n",
    "cd clarity\n",
    "\n",
    "print(\"Installing Clarity tools\")\n",
    "pip install -e .\n",
    "```"
   ]
  },
  {
   "cell_type": "markdown",
   "metadata": {},
   "source": [
    "Let's create our environment called **cadenza_tutorials**, we will use this environment in all the tutorials"
   ]
  },
  {
   "cell_type": "code",
   "execution_count": 1,
   "metadata": {},
   "outputs": [
    {
     "name": "stdout",
     "output_type": "stream",
     "text": [
      "Creating the environment...\n",
      "Collecting package metadata (current_repodata.json): ...working... done\n",
      "Solving environment: ...working... done\n",
      "\n",
      "## Package Plan ##\n",
      "\n",
      "  environment location: /home/gerardoroadabike/anaconda3/envs/cadenza_tutorials\n",
      "\n",
      "  added / updated specs:\n",
      "    - python=3.10\n",
      "\n",
      "\n",
      "The following NEW packages will be INSTALLED:\n",
      "\n",
      "  _libgcc_mutex      pkgs/main/linux-64::_libgcc_mutex-0.1-main\n",
      "  _openmp_mutex      pkgs/main/linux-64::_openmp_mutex-5.1-1_gnu\n",
      "  bzip2              pkgs/main/linux-64::bzip2-1.0.8-h5eee18b_6\n",
      "  ca-certificates    pkgs/main/linux-64::ca-certificates-2024.7.2-h06a4308_0\n",
      "  ld_impl_linux-64   pkgs/main/linux-64::ld_impl_linux-64-2.38-h1181459_1\n",
      "  libffi             pkgs/main/linux-64::libffi-3.4.4-h6a678d5_1\n",
      "  libgcc-ng          pkgs/main/linux-64::libgcc-ng-11.2.0-h1234567_1\n",
      "  libgomp            pkgs/main/linux-64::libgomp-11.2.0-h1234567_1\n",
      "  libstdcxx-ng       pkgs/main/linux-64::libstdcxx-ng-11.2.0-h1234567_1\n",
      "  libuuid            pkgs/main/linux-64::libuuid-1.41.5-h5eee18b_0\n",
      "  ncurses            pkgs/main/linux-64::ncurses-6.4-h6a678d5_0\n",
      "  openssl            pkgs/main/linux-64::openssl-3.0.14-h5eee18b_0\n",
      "  pip                pkgs/main/linux-64::pip-24.2-py310h06a4308_0\n",
      "  python             pkgs/main/linux-64::python-3.10.14-h955ad1f_1\n",
      "  readline           pkgs/main/linux-64::readline-8.2-h5eee18b_0\n",
      "  setuptools         pkgs/main/linux-64::setuptools-72.1.0-py310h06a4308_0\n",
      "  sqlite             pkgs/main/linux-64::sqlite-3.45.3-h5eee18b_0\n",
      "  tk                 pkgs/main/linux-64::tk-8.6.14-h39e8969_0\n",
      "  tzdata             pkgs/main/noarch::tzdata-2024a-h04d1e81_0\n",
      "  wheel              pkgs/main/linux-64::wheel-0.43.0-py310h06a4308_0\n",
      "  xz                 pkgs/main/linux-64::xz-5.4.6-h5eee18b_1\n",
      "  zlib               pkgs/main/linux-64::zlib-1.2.13-h5eee18b_1\n",
      "\n",
      "\n",
      "Preparing transaction: ...working... done\n",
      "Verifying transaction: ...working... done\n",
      "Executing transaction: ...working... done\n",
      "Activating the environment...\n",
      "\n",
      "CommandNotFoundError: Your shell has not been properly configured to use 'conda activate'.\n",
      "To initialize your shell, run\n",
      "\n",
      "    $ conda init <SHELL_NAME>\n",
      "\n",
      "Currently supported shells are:\n",
      "  - bash\n",
      "  - fish\n",
      "  - tcsh\n",
      "  - xonsh\n",
      "  - zsh\n",
      "  - powershell\n",
      "\n",
      "See 'conda init --help' for more information and options.\n",
      "\n",
      "IMPORTANT: You may need to close and restart your shell after running 'conda init'.\n",
      "\n",
      "\n",
      "Cloning git repo...\n",
      "Cloning into 'clarity'...\n",
      "remote: Enumerating objects: 660, done.\u001b[K\n",
      "remote: Counting objects: 100% (660/660), done.\u001b[K\n",
      "remote: Compressing objects: 100% (542/542), done.\u001b[K\n",
      "remote: Total 660 (delta 74), reused 410 (delta 43), pack-reused 0 (from 0)\u001b[K\n",
      "Receiving objects: 100% (660/660), 46.44 MiB | 51.97 MiB/s, done.\n",
      "Resolving deltas: 100% (74/74), done.\n",
      "Note: switching to 'bebd5fce0af22ddce662e3f97871b8dd8bfac721'.\n",
      "\n",
      "You are in 'detached HEAD' state. You can look around, make experimental\n",
      "changes and commit them, and you can discard any commits you make in this\n",
      "state without impacting any branches by switching back to a branch.\n",
      "\n",
      "If you want to create a new branch to retain commits you create, you may\n",
      "do so (now or later) by using -c with the switch command. Example:\n",
      "\n",
      "  git switch -c <new-branch-name>\n",
      "\n",
      "Or undo this operation with:\n",
      "\n",
      "  git switch -\n",
      "\n",
      "Turn off this advice by setting config variable advice.detachedHead to false\n",
      "\n"
     ]
    }
   ],
   "source": [
    "print(\"Creating the environment...\")\n",
    "!conda create --quiet --yes -n cadenza_tutorials python=3.10\n",
    "\n",
    "print(\"Activating the environment...\")\n",
    "!conda activate cadenza_tutorials\n",
    "\n",
    "print(\"Cloning git repo...\")\n",
    "!git clone --depth 1 --branch v0.6.0 https://github.com/claritychallenge/clarity.git"
   ]
  },
  {
   "cell_type": "code",
   "execution_count": 2,
   "metadata": {
    "scrolled": true
   },
   "outputs": [
    {
     "name": "stdout",
     "output_type": "stream",
     "text": [
      "Changing directory...\n",
      "/home/gerardoroadabike/Extended/Projects/cadenza_tutorials/getting_started/clarity\n",
      "Installing Clarity tools\n"
     ]
    },
    {
     "name": "stderr",
     "output_type": "stream",
     "text": [
      "/home/gerardoroadabike/anaconda3/envs/tutorials/lib/python3.11/site-packages/IPython/core/magics/osm.py:417: UserWarning: This is now an optional IPython functionality, setting dhist requires you to install the `pickleshare` library.\n",
      "  self.shell.db['dhist'] = compress_dhist(dhist)[-100:]\n"
     ]
    },
    {
     "name": "stdout",
     "output_type": "stream",
     "text": [
      "Obtaining file:///home/gerardoroadabike/Extended/Projects/cadenza_tutorials/getting_started/clarity\n",
      "  Installing build dependencies ... \u001b[?25ldone\n",
      "\u001b[?25h  Checking if build backend supports build_editable ... \u001b[?25ldone\n",
      "\u001b[?25h  Getting requirements to build editable ... \u001b[?25ldone\n",
      "\u001b[?25h  Preparing editable metadata (pyproject.toml) ... \u001b[?25ldone\n",
      "\u001b[?25hRequirement already satisfied: audioread>=2.1.9 in /home/gerardoroadabike/anaconda3/envs/tutorials/lib/python3.11/site-packages (from pyclarity==0.6.0) (3.0.1)\n",
      "Requirement already satisfied: gdown in /home/gerardoroadabike/anaconda3/envs/tutorials/lib/python3.11/site-packages (from pyclarity==0.6.0) (5.2.0)\n",
      "Requirement already satisfied: hydra-core>=1.1.1 in /home/gerardoroadabike/anaconda3/envs/tutorials/lib/python3.11/site-packages (from pyclarity==0.6.0) (1.3.2)\n",
      "Requirement already satisfied: hydra-submitit-launcher>=1.1.6 in /home/gerardoroadabike/anaconda3/envs/tutorials/lib/python3.11/site-packages (from pyclarity==0.6.0) (1.2.0)\n",
      "Requirement already satisfied: importlib-metadata in /home/gerardoroadabike/anaconda3/envs/tutorials/lib/python3.11/site-packages (from pyclarity==0.6.0) (8.4.0)\n",
      "Requirement already satisfied: librosa>=0.8.1 in /home/gerardoroadabike/anaconda3/envs/tutorials/lib/python3.11/site-packages (from pyclarity==0.6.0) (0.10.2.post1)\n",
      "Requirement already satisfied: matplotlib in /home/gerardoroadabike/anaconda3/envs/tutorials/lib/python3.11/site-packages (from pyclarity==0.6.0) (3.9.2)\n",
      "Requirement already satisfied: numba>=0.57.0rc in /home/gerardoroadabike/anaconda3/envs/tutorials/lib/python3.11/site-packages (from pyclarity==0.6.0) (0.60.0)\n",
      "Requirement already satisfied: numpy>=1.21.6 in /home/gerardoroadabike/anaconda3/envs/tutorials/lib/python3.11/site-packages (from pyclarity==0.6.0) (1.26.4)\n",
      "Requirement already satisfied: omegaconf>=2.1.1 in /home/gerardoroadabike/anaconda3/envs/tutorials/lib/python3.11/site-packages (from pyclarity==0.6.0) (2.3.0)\n",
      "Requirement already satisfied: pandas>=1.3.5 in /home/gerardoroadabike/anaconda3/envs/tutorials/lib/python3.11/site-packages (from pyclarity==0.6.0) (2.2.2)\n",
      "Requirement already satisfied: pyflac in /home/gerardoroadabike/anaconda3/envs/tutorials/lib/python3.11/site-packages (from pyclarity==0.6.0) (3.0.0)\n",
      "Requirement already satisfied: pyloudnorm>=0.1.0 in /home/gerardoroadabike/anaconda3/envs/tutorials/lib/python3.11/site-packages (from pyclarity==0.6.0) (0.1.1)\n",
      "Requirement already satisfied: pystoi in /home/gerardoroadabike/anaconda3/envs/tutorials/lib/python3.11/site-packages (from pyclarity==0.6.0) (0.4.1)\n",
      "Requirement already satisfied: pytorch-lightning in /home/gerardoroadabike/anaconda3/envs/tutorials/lib/python3.11/site-packages (from pyclarity==0.6.0) (2.4.0)\n",
      "Requirement already satisfied: resampy in /home/gerardoroadabike/anaconda3/envs/tutorials/lib/python3.11/site-packages (from pyclarity==0.6.0) (0.4.3)\n",
      "Requirement already satisfied: safetensors>=0.4.3 in /home/gerardoroadabike/anaconda3/envs/tutorials/lib/python3.11/site-packages (from pyclarity==0.6.0) (0.4.4)\n",
      "Requirement already satisfied: scikit-learn>=1.0.2 in /home/gerardoroadabike/anaconda3/envs/tutorials/lib/python3.11/site-packages (from pyclarity==0.6.0) (1.5.1)\n",
      "Requirement already satisfied: scipy<1.13.0,>=1.7.3 in /home/gerardoroadabike/anaconda3/envs/tutorials/lib/python3.11/site-packages (from pyclarity==0.6.0) (1.12.0)\n",
      "Requirement already satisfied: SoundFile>=0.10.3.post1 in /home/gerardoroadabike/anaconda3/envs/tutorials/lib/python3.11/site-packages (from pyclarity==0.6.0) (0.12.1)\n",
      "Requirement already satisfied: soxr in /home/gerardoroadabike/anaconda3/envs/tutorials/lib/python3.11/site-packages (from pyclarity==0.6.0) (0.4.0)\n",
      "Requirement already satisfied: torch>=2 in /home/gerardoroadabike/anaconda3/envs/tutorials/lib/python3.11/site-packages (from pyclarity==0.6.0) (2.3.1)\n",
      "Requirement already satisfied: torchaudio in /home/gerardoroadabike/anaconda3/envs/tutorials/lib/python3.11/site-packages (from pyclarity==0.6.0) (2.3.1)\n",
      "Requirement already satisfied: tqdm>=4.62.3 in /home/gerardoroadabike/anaconda3/envs/tutorials/lib/python3.11/site-packages (from pyclarity==0.6.0) (4.66.5)\n",
      "Requirement already satisfied: typing-extensions in /home/gerardoroadabike/anaconda3/envs/tutorials/lib/python3.11/site-packages (from pyclarity==0.6.0) (4.12.2)\n",
      "Requirement already satisfied: antlr4-python3-runtime==4.9.* in /home/gerardoroadabike/anaconda3/envs/tutorials/lib/python3.11/site-packages (from hydra-core>=1.1.1->pyclarity==0.6.0) (4.9.3)\n",
      "Requirement already satisfied: packaging in /home/gerardoroadabike/anaconda3/envs/tutorials/lib/python3.11/site-packages (from hydra-core>=1.1.1->pyclarity==0.6.0) (24.1)\n",
      "Requirement already satisfied: submitit>=1.3.3 in /home/gerardoroadabike/anaconda3/envs/tutorials/lib/python3.11/site-packages (from hydra-submitit-launcher>=1.1.6->pyclarity==0.6.0) (1.5.1)\n",
      "Requirement already satisfied: joblib>=0.14 in /home/gerardoroadabike/anaconda3/envs/tutorials/lib/python3.11/site-packages (from librosa>=0.8.1->pyclarity==0.6.0) (1.4.2)\n",
      "Requirement already satisfied: decorator>=4.3.0 in /home/gerardoroadabike/anaconda3/envs/tutorials/lib/python3.11/site-packages (from librosa>=0.8.1->pyclarity==0.6.0) (5.1.1)\n",
      "Requirement already satisfied: pooch>=1.1 in /home/gerardoroadabike/anaconda3/envs/tutorials/lib/python3.11/site-packages (from librosa>=0.8.1->pyclarity==0.6.0) (1.8.2)\n",
      "Requirement already satisfied: lazy-loader>=0.1 in /home/gerardoroadabike/anaconda3/envs/tutorials/lib/python3.11/site-packages (from librosa>=0.8.1->pyclarity==0.6.0) (0.4)\n",
      "Requirement already satisfied: msgpack>=1.0 in /home/gerardoroadabike/anaconda3/envs/tutorials/lib/python3.11/site-packages (from librosa>=0.8.1->pyclarity==0.6.0) (1.0.8)\n",
      "Requirement already satisfied: llvmlite<0.44,>=0.43.0dev0 in /home/gerardoroadabike/anaconda3/envs/tutorials/lib/python3.11/site-packages (from numba>=0.57.0rc->pyclarity==0.6.0) (0.43.0)\n",
      "Requirement already satisfied: PyYAML>=5.1.0 in /home/gerardoroadabike/anaconda3/envs/tutorials/lib/python3.11/site-packages (from omegaconf>=2.1.1->pyclarity==0.6.0) (6.0.2)\n",
      "Requirement already satisfied: python-dateutil>=2.8.2 in /home/gerardoroadabike/anaconda3/envs/tutorials/lib/python3.11/site-packages (from pandas>=1.3.5->pyclarity==0.6.0) (2.9.0.post0)\n",
      "Requirement already satisfied: pytz>=2020.1 in /home/gerardoroadabike/anaconda3/envs/tutorials/lib/python3.11/site-packages (from pandas>=1.3.5->pyclarity==0.6.0) (2024.1)\n",
      "Requirement already satisfied: tzdata>=2022.7 in /home/gerardoroadabike/anaconda3/envs/tutorials/lib/python3.11/site-packages (from pandas>=1.3.5->pyclarity==0.6.0) (2024.1)\n",
      "Requirement already satisfied: future>=0.16.0 in /home/gerardoroadabike/anaconda3/envs/tutorials/lib/python3.11/site-packages (from pyloudnorm>=0.1.0->pyclarity==0.6.0) (1.0.0)\n",
      "Requirement already satisfied: threadpoolctl>=3.1.0 in /home/gerardoroadabike/anaconda3/envs/tutorials/lib/python3.11/site-packages (from scikit-learn>=1.0.2->pyclarity==0.6.0) (3.5.0)\n",
      "Requirement already satisfied: cffi>=1.0 in /home/gerardoroadabike/anaconda3/envs/tutorials/lib/python3.11/site-packages (from SoundFile>=0.10.3.post1->pyclarity==0.6.0) (1.17.0)\n",
      "Requirement already satisfied: filelock in /home/gerardoroadabike/anaconda3/envs/tutorials/lib/python3.11/site-packages (from torch>=2->pyclarity==0.6.0) (3.15.4)\n",
      "Requirement already satisfied: sympy in /home/gerardoroadabike/anaconda3/envs/tutorials/lib/python3.11/site-packages (from torch>=2->pyclarity==0.6.0) (1.13.2)\n",
      "Requirement already satisfied: networkx in /home/gerardoroadabike/anaconda3/envs/tutorials/lib/python3.11/site-packages (from torch>=2->pyclarity==0.6.0) (3.3)\n",
      "Requirement already satisfied: jinja2 in /home/gerardoroadabike/anaconda3/envs/tutorials/lib/python3.11/site-packages (from torch>=2->pyclarity==0.6.0) (3.1.4)\n",
      "Requirement already satisfied: fsspec in /home/gerardoroadabike/anaconda3/envs/tutorials/lib/python3.11/site-packages (from torch>=2->pyclarity==0.6.0) (2024.6.1)\n",
      "Requirement already satisfied: nvidia-cuda-nvrtc-cu12==12.1.105 in /home/gerardoroadabike/anaconda3/envs/tutorials/lib/python3.11/site-packages (from torch>=2->pyclarity==0.6.0) (12.1.105)\n",
      "Requirement already satisfied: nvidia-cuda-runtime-cu12==12.1.105 in /home/gerardoroadabike/anaconda3/envs/tutorials/lib/python3.11/site-packages (from torch>=2->pyclarity==0.6.0) (12.1.105)\n",
      "Requirement already satisfied: nvidia-cuda-cupti-cu12==12.1.105 in /home/gerardoroadabike/anaconda3/envs/tutorials/lib/python3.11/site-packages (from torch>=2->pyclarity==0.6.0) (12.1.105)\n",
      "Requirement already satisfied: nvidia-cudnn-cu12==8.9.2.26 in /home/gerardoroadabike/anaconda3/envs/tutorials/lib/python3.11/site-packages (from torch>=2->pyclarity==0.6.0) (8.9.2.26)\n",
      "Requirement already satisfied: nvidia-cublas-cu12==12.1.3.1 in /home/gerardoroadabike/anaconda3/envs/tutorials/lib/python3.11/site-packages (from torch>=2->pyclarity==0.6.0) (12.1.3.1)\n",
      "Requirement already satisfied: nvidia-cufft-cu12==11.0.2.54 in /home/gerardoroadabike/anaconda3/envs/tutorials/lib/python3.11/site-packages (from torch>=2->pyclarity==0.6.0) (11.0.2.54)\n",
      "Requirement already satisfied: nvidia-curand-cu12==10.3.2.106 in /home/gerardoroadabike/anaconda3/envs/tutorials/lib/python3.11/site-packages (from torch>=2->pyclarity==0.6.0) (10.3.2.106)\n",
      "Requirement already satisfied: nvidia-cusolver-cu12==11.4.5.107 in /home/gerardoroadabike/anaconda3/envs/tutorials/lib/python3.11/site-packages (from torch>=2->pyclarity==0.6.0) (11.4.5.107)\n",
      "Requirement already satisfied: nvidia-cusparse-cu12==12.1.0.106 in /home/gerardoroadabike/anaconda3/envs/tutorials/lib/python3.11/site-packages (from torch>=2->pyclarity==0.6.0) (12.1.0.106)\n",
      "Requirement already satisfied: nvidia-nccl-cu12==2.20.5 in /home/gerardoroadabike/anaconda3/envs/tutorials/lib/python3.11/site-packages (from torch>=2->pyclarity==0.6.0) (2.20.5)\n",
      "Requirement already satisfied: nvidia-nvtx-cu12==12.1.105 in /home/gerardoroadabike/anaconda3/envs/tutorials/lib/python3.11/site-packages (from torch>=2->pyclarity==0.6.0) (12.1.105)\n",
      "Requirement already satisfied: triton==2.3.1 in /home/gerardoroadabike/anaconda3/envs/tutorials/lib/python3.11/site-packages (from torch>=2->pyclarity==0.6.0) (2.3.1)\n",
      "Requirement already satisfied: nvidia-nvjitlink-cu12 in /home/gerardoroadabike/anaconda3/envs/tutorials/lib/python3.11/site-packages (from nvidia-cusolver-cu12==11.4.5.107->torch>=2->pyclarity==0.6.0) (12.6.20)\n",
      "Requirement already satisfied: beautifulsoup4 in /home/gerardoroadabike/anaconda3/envs/tutorials/lib/python3.11/site-packages (from gdown->pyclarity==0.6.0) (4.12.3)\n",
      "Requirement already satisfied: requests[socks] in /home/gerardoroadabike/anaconda3/envs/tutorials/lib/python3.11/site-packages (from gdown->pyclarity==0.6.0) (2.32.3)\n",
      "Requirement already satisfied: zipp>=0.5 in /home/gerardoroadabike/anaconda3/envs/tutorials/lib/python3.11/site-packages (from importlib-metadata->pyclarity==0.6.0) (3.20.0)\n",
      "Requirement already satisfied: contourpy>=1.0.1 in /home/gerardoroadabike/anaconda3/envs/tutorials/lib/python3.11/site-packages (from matplotlib->pyclarity==0.6.0) (1.2.1)\n",
      "Requirement already satisfied: cycler>=0.10 in /home/gerardoroadabike/anaconda3/envs/tutorials/lib/python3.11/site-packages (from matplotlib->pyclarity==0.6.0) (0.12.1)\n",
      "Requirement already satisfied: fonttools>=4.22.0 in /home/gerardoroadabike/anaconda3/envs/tutorials/lib/python3.11/site-packages (from matplotlib->pyclarity==0.6.0) (4.53.1)\n",
      "Requirement already satisfied: kiwisolver>=1.3.1 in /home/gerardoroadabike/anaconda3/envs/tutorials/lib/python3.11/site-packages (from matplotlib->pyclarity==0.6.0) (1.4.5)\n",
      "Requirement already satisfied: pillow>=8 in /home/gerardoroadabike/anaconda3/envs/tutorials/lib/python3.11/site-packages (from matplotlib->pyclarity==0.6.0) (10.4.0)\n",
      "Requirement already satisfied: pyparsing>=2.3.1 in /home/gerardoroadabike/anaconda3/envs/tutorials/lib/python3.11/site-packages (from matplotlib->pyclarity==0.6.0) (3.1.2)\n",
      "Requirement already satisfied: torchmetrics>=0.7.0 in /home/gerardoroadabike/anaconda3/envs/tutorials/lib/python3.11/site-packages (from pytorch-lightning->pyclarity==0.6.0) (1.4.1)\n",
      "Requirement already satisfied: lightning-utilities>=0.10.0 in /home/gerardoroadabike/anaconda3/envs/tutorials/lib/python3.11/site-packages (from pytorch-lightning->pyclarity==0.6.0) (0.11.6)\n",
      "Requirement already satisfied: pycparser in /home/gerardoroadabike/anaconda3/envs/tutorials/lib/python3.11/site-packages (from cffi>=1.0->SoundFile>=0.10.3.post1->pyclarity==0.6.0) (2.22)\n",
      "Requirement already satisfied: aiohttp!=4.0.0a0,!=4.0.0a1 in /home/gerardoroadabike/anaconda3/envs/tutorials/lib/python3.11/site-packages (from fsspec[http]>=2022.5.0->pytorch-lightning->pyclarity==0.6.0) (3.10.5)\n",
      "Requirement already satisfied: setuptools in /home/gerardoroadabike/anaconda3/envs/tutorials/lib/python3.11/site-packages (from lightning-utilities>=0.10.0->pytorch-lightning->pyclarity==0.6.0) (72.1.0)\n",
      "Requirement already satisfied: platformdirs>=2.5.0 in /home/gerardoroadabike/anaconda3/envs/tutorials/lib/python3.11/site-packages (from pooch>=1.1->librosa>=0.8.1->pyclarity==0.6.0) (4.2.2)\n",
      "Requirement already satisfied: six>=1.5 in /home/gerardoroadabike/anaconda3/envs/tutorials/lib/python3.11/site-packages (from python-dateutil>=2.8.2->pandas>=1.3.5->pyclarity==0.6.0) (1.16.0)\n",
      "Requirement already satisfied: cloudpickle>=1.2.1 in /home/gerardoroadabike/anaconda3/envs/tutorials/lib/python3.11/site-packages (from submitit>=1.3.3->hydra-submitit-launcher>=1.1.6->pyclarity==0.6.0) (3.0.0)\n",
      "Requirement already satisfied: soupsieve>1.2 in /home/gerardoroadabike/anaconda3/envs/tutorials/lib/python3.11/site-packages (from beautifulsoup4->gdown->pyclarity==0.6.0) (2.6)\n",
      "Requirement already satisfied: MarkupSafe>=2.0 in /home/gerardoroadabike/anaconda3/envs/tutorials/lib/python3.11/site-packages (from jinja2->torch>=2->pyclarity==0.6.0) (2.1.5)\n",
      "Requirement already satisfied: charset-normalizer<4,>=2 in /home/gerardoroadabike/anaconda3/envs/tutorials/lib/python3.11/site-packages (from requests[socks]->gdown->pyclarity==0.6.0) (3.3.2)\n",
      "Requirement already satisfied: idna<4,>=2.5 in /home/gerardoroadabike/anaconda3/envs/tutorials/lib/python3.11/site-packages (from requests[socks]->gdown->pyclarity==0.6.0) (3.7)\n",
      "Requirement already satisfied: urllib3<3,>=1.21.1 in /home/gerardoroadabike/anaconda3/envs/tutorials/lib/python3.11/site-packages (from requests[socks]->gdown->pyclarity==0.6.0) (2.2.2)\n",
      "Requirement already satisfied: certifi>=2017.4.17 in /home/gerardoroadabike/anaconda3/envs/tutorials/lib/python3.11/site-packages (from requests[socks]->gdown->pyclarity==0.6.0) (2024.7.4)\n",
      "Requirement already satisfied: PySocks!=1.5.7,>=1.5.6 in /home/gerardoroadabike/anaconda3/envs/tutorials/lib/python3.11/site-packages (from requests[socks]->gdown->pyclarity==0.6.0) (1.7.1)\n",
      "Requirement already satisfied: mpmath<1.4,>=1.1.0 in /home/gerardoroadabike/anaconda3/envs/tutorials/lib/python3.11/site-packages (from sympy->torch>=2->pyclarity==0.6.0) (1.3.0)\n",
      "Requirement already satisfied: aiohappyeyeballs>=2.3.0 in /home/gerardoroadabike/anaconda3/envs/tutorials/lib/python3.11/site-packages (from aiohttp!=4.0.0a0,!=4.0.0a1->fsspec[http]>=2022.5.0->pytorch-lightning->pyclarity==0.6.0) (2.4.0)\n",
      "Requirement already satisfied: aiosignal>=1.1.2 in /home/gerardoroadabike/anaconda3/envs/tutorials/lib/python3.11/site-packages (from aiohttp!=4.0.0a0,!=4.0.0a1->fsspec[http]>=2022.5.0->pytorch-lightning->pyclarity==0.6.0) (1.3.1)\n",
      "Requirement already satisfied: attrs>=17.3.0 in /home/gerardoroadabike/anaconda3/envs/tutorials/lib/python3.11/site-packages (from aiohttp!=4.0.0a0,!=4.0.0a1->fsspec[http]>=2022.5.0->pytorch-lightning->pyclarity==0.6.0) (24.2.0)\n",
      "Requirement already satisfied: frozenlist>=1.1.1 in /home/gerardoroadabike/anaconda3/envs/tutorials/lib/python3.11/site-packages (from aiohttp!=4.0.0a0,!=4.0.0a1->fsspec[http]>=2022.5.0->pytorch-lightning->pyclarity==0.6.0) (1.4.1)\n",
      "Requirement already satisfied: multidict<7.0,>=4.5 in /home/gerardoroadabike/anaconda3/envs/tutorials/lib/python3.11/site-packages (from aiohttp!=4.0.0a0,!=4.0.0a1->fsspec[http]>=2022.5.0->pytorch-lightning->pyclarity==0.6.0) (6.0.5)\n",
      "Requirement already satisfied: yarl<2.0,>=1.0 in /home/gerardoroadabike/anaconda3/envs/tutorials/lib/python3.11/site-packages (from aiohttp!=4.0.0a0,!=4.0.0a1->fsspec[http]>=2022.5.0->pytorch-lightning->pyclarity==0.6.0) (1.9.4)\n",
      "Building wheels for collected packages: pyclarity\n",
      "  Building editable for pyclarity (pyproject.toml) ... \u001b[?25ldone\n",
      "\u001b[?25h  Created wheel for pyclarity: filename=pyclarity-0.6.0-0.editable-py3-none-any.whl size=7201 sha256=fc876f5aba81ee0bbed9b02a50976c14a7e88058b09feb18ade7f99635d6b46b\n",
      "  Stored in directory: /tmp/pip-ephem-wheel-cache-y42fen3j/wheels/ee/04/b2/07fca1a75566af3c1e70424a581bd6b1da76473bc707778948\n",
      "Successfully built pyclarity\n",
      "Installing collected packages: pyclarity\n",
      "  Attempting uninstall: pyclarity\n",
      "    Found existing installation: pyclarity 0.6.0\n",
      "    Uninstalling pyclarity-0.6.0:\n",
      "      Successfully uninstalled pyclarity-0.6.0\n",
      "Successfully installed pyclarity-0.6.0\n",
      "Note: you may need to restart the kernel to use updated packages.\n"
     ]
    }
   ],
   "source": [
    "print(\"Changing directory...\")\n",
    "%cd clarity\n",
    "\n",
    "print(\"Installing Clarity tools\")\n",
    "%pip install -e ."
   ]
  },
  {
   "cell_type": "markdown",
   "metadata": {
    "id": "C2bNtFQLp4ok"
   },
   "source": [
    "&#x1F389; Congratulations!!! &#x1F389; Now you are ready to start working on Cadenza challenges."
   ]
  },
  {
   "cell_type": "code",
   "execution_count": null,
   "metadata": {},
   "outputs": [],
   "source": []
  }
 ],
 "metadata": {
  "colab": {
   "provenance": []
  },
  "kernelspec": {
   "display_name": "Python 3 (ipykernel)",
   "language": "python",
   "name": "python3"
  },
  "language_info": {
   "codemirror_mode": {
    "name": "ipython",
    "version": 3
   },
   "file_extension": ".py",
   "mimetype": "text/x-python",
   "name": "python",
   "nbconvert_exporter": "python",
   "pygments_lexer": "ipython3",
   "version": "3.11.9"
  }
 },
 "nbformat": 4,
 "nbformat_minor": 4
}
