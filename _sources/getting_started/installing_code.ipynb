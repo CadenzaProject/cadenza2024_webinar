{
 "nbformat": 4,
 "nbformat_minor": 0,
 "metadata": {
  "colab": {
   "provenance": []
  },
  "kernelspec": {
   "name": "python3",
   "display_name": "Python 3 (ipykernel)",
   "language": "python"
  },
  "language_info": {
   "name": "python"
  }
 },
 "cells": [
  {
   "cell_type": "markdown",
   "source": [
    "# The Clarity/Cadenza codebase\n",
    "\n",
    "This tutorial walks you through the process of installing the Clarity/Cadenza Python package."
   ],
   "metadata": {
    "id": "H9xz0X7bn6qt"
   }
  },
  {
   "cell_type": "markdown",
   "source": [
    "## Download and install the Clarity/Cadenza Python package\n",
    "\n",
    "Clarity and Cadenza challenges tools can be found at the Clarity GitHub [website](https://github.com/claritychallenge/clarity).\n",
    "The tools are available as a Python package and can be installed using pip.\n",
    "\n",
    "### Tag policy\n",
    "\n",
    "The Clarity/Cadenza package is versioned using tags. The tag policy is as follows:\n",
    "\n",
    "- The `main` branch is the development branch. This branch contains the latest version of the code \n",
    "- Each `tag` corresponds to a specific challenge. Please check each challenge's README file for the corresponding tag.\n"
   ],
   "metadata": {
    "id": "Pq2bO-rVoEpx"
   }
  },
  {
   "cell_type": "markdown",
   "source": [
    "To work with the Clarity/Cadenza projects, we recommend to create a clean Python environment.\n",
    "\n",
    "To create a new conda environment:\n",
    "\n",
    "```bash\n",
    "print(\"Creating the environment...\")\n",
    "!conda create --quiet --yes -n clarity python=3.10\n",
    "\n",
    "print(\"Activating the environment...\")\n",
    "!conda activate clarity\n",
    "\n",
    "print(\"Cloning git repo...\")\n",
    "!git clone --quiet https://github.com/claritychallenge/clarity.git\n",
    "```"
   ],
   "metadata": {
    "id": "GUJgkjt3pB8w"
   }
  },
  {
   "cell_type": "markdown",
   "source": [
    "This will have made a directory called <code>clarity</code> storing the repository code.\n",
    "Now we can install the Clarity tools.\n",
    "\n",
    "```bash\n",
    "\n",
    "print(\"Changing directory...\")\n",
    "%cd clarity\n",
    "\n",
    "print(\"Installing Clarity tools\")\n",
    "%pip install -e .\n",
    "```"
   ],
   "metadata": {
    "id": "tlwvhldyoV6a"
   }
  },
  {
   "cell_type": "markdown",
   "source": "&#x1F389; Congratulations!!! &#x1F389; Now you are ready to start working on Clarity-Cadenza challenges.",
   "metadata": {
    "id": "C2bNtFQLp4ok"
   }
  },
  {
   "metadata": {},
   "cell_type": "code",
   "outputs": [],
   "execution_count": null,
   "source": ""
  }
 ]
}
