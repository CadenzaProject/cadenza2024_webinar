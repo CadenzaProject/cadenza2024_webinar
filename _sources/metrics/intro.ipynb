{
 "cells": [
  {
   "cell_type": "markdown",
   "id": "7749f050-3e73-41a1-ba51-ae69bc67c3ff",
   "metadata": {},
   "source": [
    "# Metrics in Cadenza challenges"
   ]
  },
  {
   "cell_type": "markdown",
   "id": "0aa255c1-7859-411a-84fa-cc670ba7c80b",
   "metadata": {},
   "source": [
    "In Cadenza, we are focused in how to improve music quality for people with hearing loss. The only existing metric for music quality that considers hearing loss is the Hearing Aid Audio Quality Index (HAAQI) {cite}`kates2015hearing`"
   ]
  }
 ],
 "metadata": {
  "kernelspec": {
   "display_name": "Python 3 (ipykernel)",
   "language": "python",
   "name": "python3"
  },
  "language_info": {
   "codemirror_mode": {
    "name": "ipython",
    "version": 3
   },
   "file_extension": ".py",
   "mimetype": "text/x-python",
   "name": "python",
   "nbconvert_exporter": "python",
   "pygments_lexer": "ipython3",
   "version": "3.10.13"
  }
 },
 "nbformat": 4,
 "nbformat_minor": 5
}
