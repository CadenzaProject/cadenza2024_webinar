{
 "cells": [
  {
   "cell_type": "markdown",
   "id": "7749f050-3e73-41a1-ba51-ae69bc67c3ff",
   "metadata": {},
   "source": [
    "# Metrics in Cadenza challenges"
   ]
  },
  {
   "cell_type": "markdown",
   "id": "0aa255c1-7859-411a-84fa-cc670ba7c80b",
   "metadata": {},
   "source": [
    "In the different challenges of Cadenza, we evaluate the music in terms of their audio quality and/or their intelligibility.\n",
    "\n",
    "## Audio Quality\n",
    "\n",
    "The only existing metric for music quality that considers hearing loss is the Hearing Aid Audio Quality Index (HAAQI) {cite}`kates2015hearing`.\n",
    "\n",
    "Please refer to the [Cadenza Learning Resources](https://cadenzachallenge.org/docs/learning_resources/Hearing_aid_processing/edu_HAP_HA_processed_speech#haaqi-hearing-aid-audio-quality-index) to lear more about how HAAQI operates.\n",
    "\n",
    "## Lyrics Intellibility\n",
    "\n",
    "Following the approach by {cite}`ibrahim2017intelligibility` and {cite}`sharma2019automatic`, the intelligibility of a song corresponds to the ratio of correctly transcribed words, calculated as the number of correct words in a sentence divided by the total number of words in the sentence."
   ]
  }
 ],
 "metadata": {
  "kernelspec": {
   "display_name": "Python 3 (ipykernel)",
   "language": "python",
   "name": "python3"
  },
  "language_info": {
   "codemirror_mode": {
    "name": "ipython",
    "version": 3
   },
   "file_extension": ".py",
   "mimetype": "text/x-python",
   "name": "python",
   "nbconvert_exporter": "python",
   "pygments_lexer": "ipython3",
   "version": "3.10.13"
  }
 },
 "nbformat": 4,
 "nbformat_minor": 5
}
