{
 "cells": [
  {
   "cell_type": "markdown",
   "metadata": {
    "id": "tC4jbs5yqzYw"
   },
   "source": [
    "# Baseline CAD1 Task2\n",
    "\n",
    "This tutorial walks through the process of running the CAD1 Task2 baseline using the shell Interface\n",
    "\n"
   ]
  },
  {
   "cell_type": "markdown",
   "metadata": {
    "id": "GE15AQfDKbZ-"
   },
   "source": [
    "---\n",
    "\n",
    "## Setting the Location of the Project\n",
    "\n",
    "For convenience, we are setting an environment variable with the location of the root working directory of the project. This variable will be used in various places throughout the tutorial. Please change this value to reflect where you have installed this notebook on your system."
   ]
  },
  {
   "cell_type": "code",
   "metadata": {
    "colab": {
     "base_uri": "https://localhost:8080/"
    },
    "id": "Ig9vUNPcquS_",
    "outputId": "fcb88c6d-18c4-4eba-a2c2-887db6730f32"
   },
   "source": [
    "import os\n",
    "os.environ[\"NBOOKROOT\"] = os.getcwd()\n",
    "os.getenv(\"NBOOKROOT\")"
   ],
   "outputs": [],
   "execution_count": null
  },
  {
   "cell_type": "markdown",
   "metadata": {
    "id": "SpxhTfRpK0-P"
   },
   "source": [
    "## Cloning the Clarity Repository\n",
    "We first need to install the Clarity package."
   ]
  },
  {
   "cell_type": "code",
   "metadata": {
    "colab": {
     "base_uri": "https://localhost:8080/"
    },
    "id": "f2DcWokHKeP7",
    "outputId": "f4698629-102a-498a-d412-824943f0bd3a"
   },
   "source": [
    "print(\"Cloning git repo...\")\n",
    "!git clone --quiet https://github.com/claritychallenge/clarity.git\n",
    "%cd clarity\n",
    "%pip install -e .\n",
    "import os\n",
    "import sys\n",
    "\n",
    "sys.path.append(f'{os.getenv(\"NBOOKROOT\")}/clarity')\n",
    "from IPython.display import clear_output\n",
    "\n",
    "clear_output()\n",
    "print(\"Repository installed\")"
   ],
   "execution_count": 2,
   "outputs": [
    {
     "name": "stdout",
     "output_type": "stream",
     "text": [
      "Repository installed\n"
     ]
    }
   ]
  },
  {
   "cell_type": "markdown",
   "metadata": {
    "id": "EFc91nIwK6TX"
   },
   "source": [
    "## Get the demo data\n",
    "\n",
    "We will be using music audio and listener metadata."
   ]
  },
  {
   "cell_type": "code",
   "metadata": {
    "colab": {
     "base_uri": "https://localhost:8080/"
    },
    "id": "6CDsY9_yK62h",
    "outputId": "9e4d3db2-7857-4e3a-a208-dbdc37c376f2"
   },
   "source": [
    "!gdown 1OWn0w39t_aeOOh514wRUgTw5uSwsoB17\n",
    "!mv cadenza_task2_data_demo.tar.xz recipes/cad1/task2/baseline\n",
    "!cd recipes/cad1/task2/baseline\n",
    "!tar -xvf cadenza_task2_data_demo.tar.xz\n",
    "\n",
    "clear_output()\n",
    "print(\"Data installed\")"
   ],
   "execution_count": 7,
   "outputs": [
    {
     "name": "stdout",
     "output_type": "stream",
     "text": [
      "Data installed\n"
     ]
    }
   ]
  },
  {
   "cell_type": "markdown",
   "metadata": {
    "id": "ht4E61mDM4Md"
   },
   "source": [
    "## Changing working Directory\n",
    "\n",
    "Next, we change working directory to the location of the shell scripts we wish to run."
   ]
  },
  {
   "cell_type": "code",
   "metadata": {
    "colab": {
     "base_uri": "https://localhost:8080/"
    },
    "id": "9ZM3wNRxM5X-",
    "outputId": "cf1584a9-209c-4632-f3e9-f9dd0b051f7d",
    "ExecuteTime": {
     "end_time": "2024-08-21T09:54:40.526148Z",
     "start_time": "2024-08-21T09:54:40.521844Z"
    }
   },
   "source": [
    "%cd {os.environ['NBOOKROOT']}/clarity/recipes/cad1/task2/baseline"
   ],
   "outputs": [
    {
     "name": "stdout",
     "output_type": "stream",
     "text": [
      "/home/gerardoroadabike/Extended/Projects/cadenza_tutorials/baselines/clarity/recipes/cad1/task2/baseline\n"
     ]
    }
   ],
   "execution_count": 4
  },
  {
   "cell_type": "markdown",
   "metadata": {
    "id": "osGGNyxlLKbc"
   },
   "source": [
    "## Inspecting Existing Configuration\n",
    "\n",
    "Let's inspect the config.yml file."
   ]
  },
  {
   "metadata": {},
   "cell_type": "markdown",
   "source": [
    "```yaml\n",
    "path:\n",
    "  root: ../../cadenza_task2_data_demo/cad1/task2\n",
    "  audio_dir: ${path.root}/audio\n",
    "  metadata_dir: ${path.root}/metadata\n",
    "  music_dir: ${path.audio_dir}/music\n",
    "  hrtf_dir: ${path.audio_dir}/eBrird\n",
    "  listeners_file: ${path.metadata_dir}/listeners.valid.json\n",
    "  scenes_file: ${path.metadata_dir}/scenes.json\n",
    "  scenes_listeners_file: ${path.metadata_dir}/scenes_listeners.json\n",
    "  hrtf_file: ${path.metadata_dir}/eBrird_BRIR.json\n",
    "  exp_folder: ./exp # folder to store enhanced signals and final results\n",
    "\n",
    "team_id: T001\n",
    "\n",
    "sample_rate: 44100          # sample rate of the input signal\n",
    "enhanced_sample_rate: 32000 # sample rate for the enhanced output signal\n",
    "\n",
    "nalr:\n",
    "  nfir: 220\n",
    "  sample_rate: ${sample_rate}\n",
    "\n",
    "compressor:\n",
    "  threshold: 0.7\n",
    "  attenuation: 0.1\n",
    "  attack: 5\n",
    "  release: 20\n",
    "  rms_buffer_size: 0.064\n",
    "\n",
    "soft_clip: False\n",
    "\n",
    "enhance:\n",
    "  average_level: -14   # Average level according Spotify's levels\n",
    "  min_level: -19\n",
    "\n",
    "evaluate:\n",
    "  set_random_seed: True\n",
    "  small_test: False\n",
    "  save_intermediate_wavs: False\n",
    "  split: valid # train, valid\n",
    "  batch_size: 1   # Number of batches\n",
    "  batch: 0      # Batch number to evaluate\n",
    "\n",
    "# hydra config\n",
    "hydra:\n",
    "  run:\n",
    "    dir: ${path.exp_folder}\n",
    "```"
   ]
  },
  {
   "cell_type": "markdown",
   "metadata": {
    "id": "3M00GTGXLapH"
   },
   "source": [
    "## Running Enhancement\n",
    "\n",
    "We are now ready to run the enhance.py python script. However, the standard configuration is designed to work with the full dataset. We can redirect the script to the correct folders by overriding the appropriate configuration parameters."
   ]
  },
  {
   "cell_type": "code",
   "metadata": {
    "colab": {
     "base_uri": "https://localhost:8080/"
    },
    "id": "aBJMUEMvLnRP",
    "outputId": "a03eac27-2600-4bd7-c6ff-244b7899d8e4",
    "ExecuteTime": {
     "end_time": "2024-08-21T09:56:34.192149Z",
     "start_time": "2024-08-21T09:56:26.488388Z"
    }
   },
   "source": "!python enhance.py path.root={os.environ['NBOOKROOT']}/clarity/recipes/cad1/task2/baseline/cad1/task2",
   "outputs": [
    {
     "name": "stdout",
     "output_type": "stream",
     "text": [
      "/home/gerardoroadabike/Extended/Projects/cadenza_tutorials/baselines/clarity/recipes/cad1/task2/baseline/evaluate.py:139: UserWarning: \r\n",
      "The version_base parameter is not specified.\r\n",
      "Please specify a compatability version level, or None.\r\n",
      "Will assume defaults for version 1.1\r\n",
      "  @hydra.main(config_path=\"\", config_name=\"config\")\r\n",
      "/home/gerardoroadabike/Extended/Projects/cadenza_tutorials/baselines/clarity/recipes/cad1/task2/baseline/enhance.py:95: UserWarning: \r\n",
      "The version_base parameter is not specified.\r\n",
      "Please specify a compatability version level, or None.\r\n",
      "Will assume defaults for version 1.1\r\n",
      "  @hydra.main(config_path=\"\", config_name=\"config\")\r\n",
      "/home/gerardoroadabike/anaconda3/envs/clarity39/lib/python3.10/site-packages/hydra/_internal/hydra.py:119: UserWarning: Future Hydra versions will no longer change working directory at job runtime by default.\r\n",
      "See https://hydra.cc/docs/1.2/upgrades/1.1_to_1.2/changes_to_job_working_dir/ for more information.\r\n",
      "  ret = run_job(\r\n",
      "100%|███████████████████████████████████████████| 20/20 [00:05<00:00,  3.70it/s]\r\n",
      "\u001B[0m"
     ]
    }
   ],
   "execution_count": 8
  },
  {
   "cell_type": "markdown",
   "metadata": {
    "id": "qNf9e_1uLlRm"
   },
   "source": [
    "Now we have the enhanced output. Below, we can load and play the audio to listen to examples of the results."
   ]
  },
  {
   "cell_type": "code",
   "metadata": {
    "colab": {
     "base_uri": "https://localhost:8080/",
     "height": 198
    },
    "id": "b7eJj856LqIE",
    "outputId": "b492ab47-3201-4d1c-bce8-a604c035d474",
    "ExecuteTime": {
     "end_time": "2024-08-21T11:13:41.491541Z",
     "start_time": "2024-08-21T11:13:41.467261Z"
    }
   },
   "source": [
    "from pathlib import Path\n",
    "import IPython.display as ipd\n",
    "from clarity.utils.flac_encoder import read_flac_signal\n",
    "\n",
    "audio_path = Path(\"exp/enhanced_signals\")\n",
    "audio_files = [f for f in audio_path.glob('*/*/*') if f.suffix == '.flac'][:4]\n",
    "\n",
    "for file_to_play in audio_files:\n",
    "  signal, sample_rate = read_flac_signal(file_to_play)\n",
    "  print(file_to_play.name)\n",
    "  ipd.display(ipd.Audio(signal.T, rate=sample_rate))"
   ],
   "outputs": [
    {
     "ename": "FileNotFoundError",
     "evalue": "[Errno 2] No such file or directory",
     "output_type": "error",
     "traceback": [
      "\u001B[0;31m---------------------------------------------------------------------------\u001B[0m",
      "\u001B[0;31mFileNotFoundError\u001B[0m                         Traceback (most recent call last)",
      "Cell \u001B[0;32mIn[53], line 7\u001B[0m\n\u001B[1;32m      5\u001B[0m audio_path \u001B[38;5;241m=\u001B[39m Path(\u001B[38;5;124m\"\u001B[39m\u001B[38;5;124mexp/enhanced_signals\u001B[39m\u001B[38;5;124m\"\u001B[39m)\n\u001B[1;32m      6\u001B[0m audio_files \u001B[38;5;241m=\u001B[39m [f \u001B[38;5;28;01mfor\u001B[39;00m f \u001B[38;5;129;01min\u001B[39;00m audio_path\u001B[38;5;241m.\u001B[39mglob(\u001B[38;5;124m'\u001B[39m\u001B[38;5;124m*/*/*\u001B[39m\u001B[38;5;124m'\u001B[39m) \u001B[38;5;28;01mif\u001B[39;00m f\u001B[38;5;241m.\u001B[39msuffix \u001B[38;5;241m==\u001B[39m \u001B[38;5;124m'\u001B[39m\u001B[38;5;124m.flac\u001B[39m\u001B[38;5;124m'\u001B[39m]\n\u001B[0;32m----> 7\u001B[0m \u001B[38;5;28mprint\u001B[39m(\u001B[43mos\u001B[49m\u001B[38;5;241;43m.\u001B[39;49m\u001B[43mgetcwd\u001B[49m\u001B[43m(\u001B[49m\u001B[43m)\u001B[49m)\n\u001B[1;32m      8\u001B[0m \u001B[38;5;28;01mfor\u001B[39;00m file_to_play \u001B[38;5;129;01min\u001B[39;00m audio_files:\n\u001B[1;32m      9\u001B[0m   signal, sample_rate \u001B[38;5;241m=\u001B[39m read_flac_signal(file_to_play)\n",
      "\u001B[0;31mFileNotFoundError\u001B[0m: [Errno 2] No such file or directory"
     ]
    }
   ],
   "execution_count": 53
  },
  {
   "cell_type": "markdown",
   "metadata": {
    "id": "4UQ5FhH5MSw2"
   },
   "source": [
    "Now that we have enhanced audios we can use the evaluate recipe to generate HAAQI scores for the signals. The evaluation is run in the same manner as the enhancement script."
   ]
  },
  {
   "cell_type": "code",
   "metadata": {
    "id": "NyznekRQMYiv",
    "ExecuteTime": {
     "end_time": "2024-08-21T10:34:26.036589Z",
     "start_time": "2024-08-21T09:57:36.551659Z"
    }
   },
   "source": "!python evaluate.py path.root={os.environ['NBOOKROOT']}/clarity/recipes/cad1/task2/baseline/cad1/task2",
   "outputs": [
    {
     "name": "stdout",
     "output_type": "stream",
     "text": [
      "/home/gerardoroadabike/Extended/Projects/cadenza_tutorials/baselines/clarity/recipes/cad1/task2/baseline/evaluate.py:139: UserWarning: \r\n",
      "The version_base parameter is not specified.\r\n",
      "Please specify a compatability version level, or None.\r\n",
      "Will assume defaults for version 1.1\r\n",
      "  @hydra.main(config_path=\"\", config_name=\"config\")\r\n",
      "/home/gerardoroadabike/anaconda3/envs/clarity39/lib/python3.10/site-packages/hydra/_internal/hydra.py:119: UserWarning: Future Hydra versions will no longer change working directory at job runtime by default.\r\n",
      "See https://hydra.cc/docs/1.2/upgrades/1.1_to_1.2/changes_to_job_working_dir/ for more information.\r\n",
      "  ret = run_job(\r\n",
      "[2024-08-21 10:57:38,292][__main__][INFO] - Evaluating from enhanced_signals directory\r\n",
      " 10%|████▎                                      | 2/20 [04:23<39:09, 130.51s/it][2024-08-21 11:03:16,806][recipes.cad1.task2.baseline.car_scene_acoustics][WARNING] - Scene T041020_L5000_S2023: 24638 samples clipped in evaluation signal.\r\n",
      "[2024-08-21 11:03:21,229][recipes.cad1.task2.baseline.audio_manager][WARNING] - Writing evaluation_signals/L5000/fma_041020/ref_signal_for_eval: 526 samples clipped\r\n",
      " 20%|████████▌                                  | 4/20 [08:40<34:22, 128.90s/it][2024-08-21 11:07:12,158][recipes.cad1.task2.baseline.car_scene_acoustics][WARNING] - Scene T058333_L5000_S2023: 36420 samples clipped in evaluation signal.\r\n",
      " 25%|██████████▊                                | 5/20 [10:26<30:11, 120.79s/it][2024-08-21 11:09:10,196][recipes.cad1.task2.baseline.car_scene_acoustics][WARNING] - Scene T059446_L5020_S2023: 69 samples clipped in evaluation signal.\r\n",
      "[2024-08-21 11:09:14,510][recipes.cad1.task2.baseline.audio_manager][WARNING] - Writing evaluation_signals/L5020/fma_059446/ref_signal_for_eval: 92 samples clipped\r\n",
      " 30%|████████████▉                              | 6/20 [12:24<27:58, 119.89s/it][2024-08-21 11:11:06,476][recipes.cad1.task2.baseline.car_scene_acoustics][WARNING] - Scene T064521_L5029_S2023: 1 samples clipped in evaluation signal.\r\n",
      "[2024-08-21 11:11:10,722][recipes.cad1.task2.baseline.audio_manager][WARNING] - Writing evaluation_signals/L5029/fma_064521/ref_signal_for_eval: 15 samples clipped\r\n",
      " 35%|███████████████                            | 7/20 [14:21<25:44, 118.77s/it][2024-08-21 11:12:56,046][recipes.cad1.task2.baseline.audio_manager][WARNING] - Writing evaluation_signals/L5045/fma_074945/ref_signal_for_eval: 6 samples clipped\r\n",
      " 40%|█████████████████▏                         | 8/20 [16:11<23:14, 116.17s/it][2024-08-21 11:14:39,021][recipes.cad1.task2.baseline.audio_manager][WARNING] - Writing evaluation_signals/L5093/fma_075420/ref_signal_for_eval: 6 samples clipped\r\n",
      " 45%|███████████████████▎                       | 9/20 [17:52<20:23, 111.23s/it][2024-08-21 11:16:02,654][recipes.cad1.task2.baseline.car_scene_acoustics][WARNING] - Scene T092549_L5007_S2023: 467 samples clipped in evaluation signal.\r\n",
      "[2024-08-21 11:16:06,989][recipes.cad1.task2.baseline.audio_manager][WARNING] - Writing evaluation_signals/L5007/mtg_00539764/ref_signal_for_eval: 3 samples clipped\r\n",
      " 50%|█████████████████████                     | 10/20 [19:20<17:20, 104.05s/it][2024-08-21 11:17:30,211][recipes.cad1.task2.baseline.car_scene_acoustics][WARNING] - Scene T098556_L5071_S2023: 3304 samples clipped in evaluation signal.\r\n",
      "[2024-08-21 11:17:34,631][recipes.cad1.task2.baseline.audio_manager][WARNING] - Writing evaluation_signals/L5071/fma_098556/ref_signal_for_eval: 3 samples clipped\r\n",
      " 60%|█████████████████████████▏                | 12/20 [22:30<13:22, 100.37s/it][2024-08-21 11:20:45,764][recipes.cad1.task2.baseline.car_scene_acoustics][WARNING] - Scene T109978_L5013_S2023: 525 samples clipped in evaluation signal.\r\n",
      "[2024-08-21 11:20:49,984][recipes.cad1.task2.baseline.audio_manager][WARNING] - Writing evaluation_signals/L5013/fma_109978/ref_signal_for_eval: 1296 samples clipped\r\n",
      " 65%|███████████████████████████▉               | 13/20 [24:02<11:26, 98.04s/it][2024-08-21 11:22:11,499][recipes.cad1.task2.baseline.car_scene_acoustics][WARNING] - Scene T113278_L5018_S2023: 26 samples clipped in evaluation signal.\r\n",
      "[2024-08-21 11:22:15,809][recipes.cad1.task2.baseline.audio_manager][WARNING] - Writing evaluation_signals/L5018/fma_113278/ref_signal_for_eval: 10 samples clipped\r\n",
      " 75%|████████████████████████████████▎          | 15/20 [27:19<08:15, 99.12s/it][2024-08-21 11:25:37,508][recipes.cad1.task2.baseline.car_scene_acoustics][WARNING] - Scene T131979_L5007_S2023S500015: 24 samples clipped in evaluation signal.\r\n",
      " 85%|███████████████████████████████████▋      | 17/20 [30:55<05:14, 104.84s/it][2024-08-21 11:29:29,116][recipes.cad1.task2.baseline.car_scene_acoustics][WARNING] - Scene T140583_L5042_S2023: 1 samples clipped in evaluation signal.\r\n",
      "[2024-08-21 11:29:33,645][recipes.cad1.task2.baseline.audio_manager][WARNING] - Writing evaluation_signals/L5042/mtg_01063183/ref_signal_for_eval: 10 samples clipped\r\n",
      " 90%|█████████████████████████████████████▊    | 18/20 [32:52<03:36, 108.46s/it][2024-08-21 11:31:22,196][recipes.cad1.task2.baseline.car_scene_acoustics][WARNING] - Scene T142641_L5040_S2023: 74 samples clipped in evaluation signal.\r\n",
      " 95%|███████████████████████████████████████▉  | 19/20 [34:39<01:48, 108.11s/it][2024-08-21 11:33:23,821][recipes.cad1.task2.baseline.car_scene_acoustics][WARNING] - Scene T142947_L5009_S2023: 144 samples clipped in evaluation signal.\r\n",
      "[2024-08-21 11:33:28,298][recipes.cad1.task2.baseline.audio_manager][WARNING] - Writing evaluation_signals/L5009/fma_064515/ref_signal_for_eval: 4 samples clipped\r\n",
      "100%|██████████████████████████████████████████| 20/20 [36:47<00:00, 110.37s/it]\r\n",
      "\u001B[0m"
     ]
    }
   ],
   "execution_count": 14
  },
  {
   "cell_type": "code",
   "source": [
    "from pathlib import Path\n",
    "from scipy.io import wavfile\n",
    "\n",
    "import IPython.display as ipd\n",
    "\n",
    "audio_path = Path(\"exp/evaluation_signals\")\n",
    "audio_files = [f for f in audio_path.glob('*/*/ha_*') if f.suffix == '.wav'][:1]\n",
    "\n",
    "signals = []\n",
    "rates = []\n",
    "columns = []\n",
    "for file_to_play in audio_files:\n",
    "  sample_rate, signal = wavfile.read(file_to_play)\n",
    "  print(file_to_play.parts[-3], file_to_play.parts[-2], file_to_play.name)\n",
    "  ipd.display(ipd.Audio(signal.T, rate=sample_rate))\n",
    "\n",
    "  print(file_to_play.parts[-3], file_to_play.parts[-2], \"ref_signal_for_eval.wav\")\n",
    "  _, signal = wavfile.read(file_to_play.parent / \"ref_signal_for_eval.wav\")\n",
    "  ipd.display(ipd.Audio(signal.T, rate=sample_rate))"
   ],
   "metadata": {
    "colab": {
     "base_uri": "https://localhost:8080/",
     "height": 380
    },
    "id": "HmQ6Tt91kRGr",
    "outputId": "508cd0ec-bc44-4d6f-822c-5f458582e78d"
   },
   "outputs": [],
   "execution_count": null
  },
  {
   "cell_type": "markdown",
   "metadata": {
    "id": "h1WRe_mlMWlr"
   },
   "source": [
    "We hope that this tutorial has been useful and has explained the process for using the recipe scripts using the Hydra configuration system. This approach can be applied to all of the recipes that are included in the repository."
   ]
  },
  {
   "metadata": {},
   "cell_type": "code",
   "outputs": [],
   "execution_count": null,
   "source": ""
  }
 ],
 "metadata": {
  "colab": {
   "provenance": []
  },
  "kernelspec": {
   "display_name": "Python 3 (ipykernel)",
   "name": "python3",
   "language": "python"
  },
  "language_info": {
   "name": "python"
  }
 },
 "nbformat": 4,
 "nbformat_minor": 0
}
