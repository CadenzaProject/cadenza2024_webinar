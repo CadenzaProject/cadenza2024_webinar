{
 "cells": [
  {
   "cell_type": "markdown",
   "metadata": {
    "id": "tC4jbs5yqzYw"
   },
   "source": [
    "# Baseline CAD2 Task1\n",
    "\n",
    "## Lyrics Intelligibility\n",
    "\n"
   ]
  },
  {
   "cell_type": "markdown",
   "metadata": {
    "id": "ffET3AfZFKPt"
   },
   "source": [
    "Anechdotic misshearing of lyrics are very common and one can find several examples on Internet, from websites dedicated to lyrics misshearings to stand-up comedies that exploit this in a houmorous way.\n",
    "\n",
    "However, lyrics misshearings is an important problem for those with hearing loss {cite}`greasley2020music`.\n",
    "\n",
    "In this second round of Cadenza Challenges, we are presenting a challenge where entrants needs to process a pop/rock music signal and increase the intelligibility with least loss of audio quality.\n",
    "\n",
    "More on the challenge description on the [Cadenza website](https://cadenzachallenge.org/docs/cadenza2/intro). \n",
    "\n",
    "This tutorial walks through the process of running the lyrics intelligibility baseline using the shell interface."
   ]
  },
  {
   "cell_type": "markdown",
   "metadata": {
    "id": "pajpylpbFud6"
   },
   "source": [
    "## Create the environment\n",
    "\n",
    "We first need to install the Clarity package. For this, we use the tag version of the challenge, **v6.0.0**"
   ]
  },
  {
   "cell_type": "markdown",
   "metadata": {},
   "source": [
    "### Setting the Location of the Project\n",
    "\n",
    "For convenience, we are setting an environment variable with the location of the root working directory of the project. This variable will be used in various places throughout the tutorial. Please change this value to reflect where you have installed this notebook on your system."
   ]
  },
  {
   "cell_type": "code",
   "execution_count": null,
   "metadata": {},
   "outputs": [],
   "source": [
    "import os\n",
    "os.environ[\"NBOOKROOT\"] = os.getcwd()\n",
    "os.getenv(\"NBOOKROOT\")"
   ]
  },
  {
   "cell_type": "code",
   "execution_count": 1,
   "metadata": {
    "colab": {
     "base_uri": "https://localhost:8080/"
    },
    "id": "zL0yLZUvFr9P",
    "outputId": "7434b909-ac71-4f3f-c163-2d5870317e9c"
   },
   "outputs": [
    {
     "name": "stdout",
     "output_type": "stream",
     "text": [
      "Repository installed\n"
     ]
    }
   ],
   "source": [
    "from IPython.display import clear_output\n",
    "\n",
    "import os\n",
    "import sys\n",
    "\n",
    "print(\"Cloning git repo...\")\n",
    "!git clone --depth 1 --branch v0.6.0 https://github.com/claritychallenge/clarity.git\n"
   ]
  },
  {
   "cell_type": "code",
   "execution_count": null,
   "metadata": {},
   "outputs": [],
   "source": [
    "%cd clarity\n",
    "%pip install -e .\n",
    "\n",
    "sys.path.append(f'{os.getenv(\"NBOOKROOT\")}/clarity')\n",
    "\n",
    "clear_output()\n",
    "print(\"Repository installed\")"
   ]
  },
  {
   "cell_type": "markdown",
   "metadata": {
    "id": "8pXJVSt-F-NN"
   },
   "source": [
    "## Get the demo data\n",
    "\n",
    "We will be using music audio and listener metadata."
   ]
  },
  {
   "cell_type": "code",
   "execution_count": null,
   "metadata": {
    "colab": {
     "base_uri": "https://localhost:8080/"
    },
    "id": "TpG-bGs8Fzgl",
    "outputId": "438666a1-ac21-4532-a340-baefee85202d"
   },
   "outputs": [
    {
     "name": "stdout",
     "output_type": "stream",
     "text": [
      "Data installed\n"
     ]
    }
   ],
   "source": [
    "import gdown\n",
    "\n",
    "!gdown 10SfuZR7yVlVO6RwNUc3kPeJHGiwpN3VS\n",
    "!mv cadenza_data_demo.tar.xz recipes/cad1/task1/baseline\n",
    "!tar -xvf cadenza_data_demo.tar.xz\n",
    "\n",
    "clear_output()\n",
    "print(\"Data installed\")"
   ]
  },
  {
   "cell_type": "markdown",
   "metadata": {
    "id": "a0gQKwx8GnfD"
   },
   "source": [
    "## Changing working Directory\n",
    "\n",
    "Next, we change working directory to the location of the shell scripts we wish to run."
   ]
  },
  {
   "cell_type": "code",
   "execution_count": null,
   "metadata": {
    "colab": {
     "base_uri": "https://localhost:8080/",
     "height": 53
    },
    "id": "fopV37z6GSoO",
    "outputId": "791191b3-6176-427c-bc62-63cd45196b57"
   },
   "outputs": [
    {
     "name": "stdout",
     "output_type": "stream",
     "text": [
      "/content/clarity/recipes/cad1/task1/baseline\n"
     ]
    },
    {
     "data": {
      "application/vnd.google.colaboratory.intrinsic+json": {
       "type": "string"
      },
      "text/plain": [
       "'/content/clarity/recipes/cad1/task1/baseline'"
      ]
     },
     "execution_count": 4,
     "metadata": {},
     "output_type": "execute_result"
    }
   ],
   "source": [
    "%cd {os.environ['NBOOKROOT']}/clarity/recipes/cad1/task1/baseline\n",
    "%pwd"
   ]
  },
  {
   "cell_type": "markdown",
   "metadata": {
    "id": "jWFEskB3HgGM"
   },
   "source": [
    "## Inspecting Existing Configuration\n",
    "\n",
    "All of the included shell scripts take configurable variables from the yaml files in the same directory as the shell script.Typically these are named <code>config.yaml</code>, however, other names may be used if more than one shell script is in a directory.\n",
    "\n",
    "We can inspect the contents of the config file using <code>!cat</code>:"
   ]
  },
  {
   "cell_type": "code",
   "execution_count": null,
   "metadata": {
    "colab": {
     "base_uri": "https://localhost:8080/"
    },
    "id": "CwQbLMMXGsdp",
    "outputId": "fe5611e3-f7f2-4402-eabe-e3e06429b187"
   },
   "outputs": [
    {
     "name": "stdout",
     "output_type": "stream",
     "text": [
      "path:\n",
      "  root: ./\n",
      "  metadata_dir: ${path.root}/task1/metadata\n",
      "  music_dir: ${path.root}/task1/audio/musdb18hq\n",
      "  music_train_file: ${path.metadata_dir}/musdb18.train.json\n",
      "  music_valid_file: ${path.metadata_dir}/musdb18.valid.json\n",
      "  listeners_train_file: ${path.metadata_dir}/listeners.train.json\n",
      "  listeners_valid_file: ${path.metadata_dir}/listeners.valid.json\n",
      "  exp_folder: ./exp # folder to store enhanced signals and final results\n",
      "\n",
      "nalr:\n",
      "  nfir: 220\n",
      "  fs: 44100\n",
      "\n",
      "apply_compressor: False\n",
      "compressor:\n",
      "  threshold: 0.35\n",
      "  attenuation: 0.1\n",
      "  attack: 50\n",
      "  release: 1000\n",
      "  rms_buffer_size: 0.064\n",
      "\n",
      "soft_clip: True\n",
      "\n",
      "separator:\n",
      "  device: ~\n",
      "\n",
      "evaluate:\n",
      "  set_random_seed: True\n",
      "  small_test: False\n",
      "  batch_size: 5  # Number of batches\n",
      "  batch: 0       # Batch number to evaluate\n",
      "\n",
      "# hydra config\n",
      "hydra:\n",
      "  run:\n",
      "    dir: ${path.exp_folder}"
     ]
    }
   ],
   "source": [
    "!cat config.yaml"
   ]
  },
  {
   "cell_type": "markdown",
   "metadata": {
    "id": "PorM62C9HpQq"
   },
   "source": [
    "The general organisation of the config files is hierarchical, with property labels depending on the script in question. The config file for the enhance and evaluate recipes contains configurable paramaters for both scripts. These include:\n",
    "- Paths for the locations of audio files, metadata and the export location for generated files\n",
    "- Paramaters for the NAL-R fitting\n",
    "- Paramaters for the automatic gain control (AGC) compressor used in the baseline enhancer\n",
    "- Parameters for the challenge evaluator\n",
    "- Parameters necessary for Hydra to run\n",
    "\n",
    "The path.root parameter defaults to the root of the baseline and must be overrided with a dataset root path when the python script is called in the command line.\n",
    "\n",
    "e.g\n",
    "\n",
    "```\n",
    "user:~$ python mypythonscript.py path.root='/path/to/project'\n",
    "```\n",
    "\n",
    "In this notebook we will use the environment variable <code>$NBOOKROOT</code> which we defined at the start of the tutorial.\n",
    "\n",
    "Note the lack of slash at the end of the <code>path.root</code> argument string. If you inspect a variable such as <code>path.metadata_dir</code> you will see that this slash is already included in the line.\n",
    "\n",
    "```\n",
    "path:\n",
    "  root: ./\n",
    "  metadata_dir: ${path.root}/task1/metadata\n",
    "\n",
    "```"
   ]
  },
  {
   "cell_type": "markdown",
   "metadata": {
    "id": "u7nvI7seIlQH"
   },
   "source": [
    "The general form for overriding a parameter in the CLI is dot indexed. For the following entry in a <code>config.yaml</code> file:\n",
    "```\n",
    "A:\n",
    "  B:\n",
    "    parameter_0: some_value\n",
    "    parameter_1: some_other_value\n",
    "```\n",
    "The CLI syntax to override those values would be:\n",
    "\n",
    "```\n",
    "User:~$ python myscript.py A.B.parameter_0=\"new_value\" A.B.parameter_1=\"another_new_value\"\n",
    "```"
   ]
  },
  {
   "cell_type": "markdown",
   "metadata": {
    "id": "oCGGqlrjIo9w"
   },
   "source": [
    "## Shell Scripts\n",
    "\n",
    "Typically, as stated above, all the work is done within python with configurable variables supplied by a <code>yaml</code> file which is parsed by Hydra inside the python code.\n",
    "\n",
    "The execution of this code is performed in the CLI and new configuration variable values are supplied as arguments to override defaults."
   ]
  },
  {
   "cell_type": "markdown",
   "metadata": {
    "id": "yr-tKXpFIsWl"
   },
   "source": [
    "---\n",
    "### Additional steps for Colab Notebooks\n",
    "This version of this tutorial is designed to run on Google Colab. The editable installation of the clarity repository is by default not visible to the python interpreter in this environment, even though the installation cell above makes the clarity tools visible to the iPython interpreter.\n",
    "\n",
    "As such, we need to make sure that the standard python interpreter called in the shell magic that follows below has the location of the clarity packages in the PYTHONPATH variable.\n",
    "\n",
    "For local environments, this step may not be necessary."
   ]
  },
  {
   "cell_type": "code",
   "execution_count": null,
   "metadata": {
    "colab": {
     "base_uri": "https://localhost:8080/"
    },
    "id": "3w5krs-ZHjcj",
    "outputId": "3e8bd8aa-0a59-4466-822e-09762a801988"
   },
   "outputs": [
    {
     "name": "stdout",
     "output_type": "stream",
     "text": [
      "env: PYTHONPATH=$PYTHONPATH:/content/clarity\n"
     ]
    }
   ],
   "source": [
    "%env PYTHONPATH=$PYTHONPATH:/content/clarity"
   ]
  },
  {
   "cell_type": "markdown",
   "metadata": {
    "id": "quq_sa9fIyTK"
   },
   "source": [
    "---\n",
    "We are now ready to run the prepared python script. However, the standard configuration is designed to work with the full clarity dataset. We can redirect the script to the correct folders by overriding the appropriate configuration parameters."
   ]
  },
  {
   "cell_type": "code",
   "execution_count": null,
   "metadata": {
    "colab": {
     "base_uri": "https://localhost:8080/"
    },
    "id": "NnDcNpa-Iv03",
    "outputId": "aabb3c37-4f25-4d32-dc1b-e2fb9644e366"
   },
   "outputs": [
    {
     "name": "stdout",
     "output_type": "stream",
     "text": [
      "[2023-03-03 11:30:24,122][torchaudio.utils.download][INFO] - The local file (/root/.cache/torch/hub/torchaudio/models/hdemucs_high_musdbhq_only.pt) exists. Skipping the download.\n",
      "[2023-03-03 11:30:24,614][__main__][INFO] - [001/001)] Processing Actions - One Minute Smile for L5076...\n"
     ]
    }
   ],
   "source": [
    "%%shell\n",
    "python enhance.py \\\n",
    "path.root=../cadenza_data_demo/cad1"
   ]
  },
  {
   "cell_type": "markdown",
   "metadata": {
    "id": "8Xg_KoBXLFni"
   },
   "source": [
    "Now we have the enhanced output. Below, we can load and play the audio to listen to examples of the results."
   ]
  },
  {
   "cell_type": "code",
   "execution_count": null,
   "metadata": {
    "id": "RdddH8k_JOyR"
   },
   "outputs": [],
   "source": [
    "from os import listdir\n",
    "from os.path import isfile, join\n",
    "from pathlib import Path\n",
    "from scipy.io import wavfile\n",
    "\n",
    "import IPython.display as ipd\n",
    "\n",
    "audio_path = Path(\"exp/enhanced_signals\")\n",
    "audio_files = [f for f in audio_path.glob('*/*/*') if f.suffix == '.wav']\n",
    "\n",
    "for file_to_play in audio_files:\n",
    "  sample_rate, signal = wavfile.read(file_to_play)\n",
    "  # Take only 30 seconds\n",
    "  if signal.shape[-1] == 1:\n",
    "    signal = signal[30*sample_rate:60*sample_rate, :]\n",
    "  else:\n",
    "    signal = signal[30*sample_rate:60*sample_rate]\n",
    "  print(file_to_play.name)\n",
    "  ipd.display(ipd.Audio(signal.T, rate=sample_rate))"
   ]
  },
  {
   "cell_type": "markdown",
   "metadata": {
    "id": "nMKBDkc4Nsl_"
   },
   "source": [
    "Now that we have enhanced audios we can use the evaluate recipe to generate HAAQI scores for the signals. The evaluation is run in the same manner as the enhancement script."
   ]
  },
  {
   "cell_type": "code",
   "execution_count": null,
   "metadata": {
    "id": "BFvYiF15LJEu"
   },
   "outputs": [],
   "source": [
    "%%shell\n",
    "python evaluate.py \\\n",
    "path.root=../cadenza_data_demo/cad1"
   ]
  },
  {
   "cell_type": "markdown",
   "metadata": {
    "id": "K9yB6XdlOCRp"
   },
   "source": [
    "We hope that this tutorial has been useful and has explained the process for using the recipe scripts using the Hydra configuration system. This approach can be applied to all of the recipes that are included in the repository."
   ]
  },
  {
   "cell_type": "code",
   "execution_count": null,
   "metadata": {
    "id": "uEgjJQd6N655"
   },
   "outputs": [],
   "source": []
  }
 ],
 "metadata": {
  "colab": {
   "provenance": []
  },
  "kernelspec": {
   "display_name": "Python 3 (ipykernel)",
   "language": "python",
   "name": "python3"
  },
  "language_info": {
   "codemirror_mode": {
    "name": "ipython",
    "version": 3
   },
   "file_extension": ".py",
   "mimetype": "text/x-python",
   "name": "python",
   "nbconvert_exporter": "python",
   "pygments_lexer": "ipython3",
   "version": "3.11.9"
  }
 },
 "nbformat": 4,
 "nbformat_minor": 4
}
