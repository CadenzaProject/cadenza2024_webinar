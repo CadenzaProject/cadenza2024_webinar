{
 "cells": [
  {
   "cell_type": "markdown",
   "metadata": {
    "id": "tC4jbs5yqzYw"
   },
   "source": [
    "# Baseline CAD2 Task1\n",
    "\n",
    "## Lyrics Intelligibility\n",
    "\n"
   ]
  },
  {
   "cell_type": "markdown",
   "metadata": {
    "id": "ffET3AfZFKPt"
   },
   "source": [
    "Anechdotic misshearing of lyrics are very common and one can find several examples on Internet, from websites dedicated to lyrics misshearings to stand-up comedies that exploit this in a houmorous way.\n",
    "\n",
    "However, lyrics misshearings is an important problem for those with hearing loss {cite}`greasley2020music`.\n",
    "\n",
    "In this second round of Cadenza Challenges, we are presenting a challenge where entrants needs to process a pop/rock music signal and increase the intelligibility with least loss of audio quality.\n",
    "\n",
    "More on the challenge description on the [Cadenza website](https://cadenzachallenge.org/docs/cadenza2/intro). \n",
    "\n",
    "This tutorial walks through the process of running the lyrics intelligibility baseline using the shell interface."
   ]
  },
  {
   "cell_type": "markdown",
   "metadata": {
    "id": "pajpylpbFud6"
   },
   "source": [
    "## Create the environment\n",
    "\n",
    "We first need to install the Clarity package. For this, we use the tag version of the challenge, **v6.0.0**"
   ]
  },
  {
   "cell_type": "markdown",
   "metadata": {},
   "source": [
    "### Setting the Location of the Project\n",
    "\n",
    "For convenience, we are setting an environment variable with the location of the root working directory of the project. This variable will be used in various places throughout the tutorial. Please change this value to reflect where you have installed this notebook on your system."
   ]
  },
  {
   "cell_type": "code",
   "execution_count": 1,
   "metadata": {},
   "outputs": [
    {
     "data": {
      "text/plain": [
       "'/home/gerardoroadabike/Extended/Projects/cadenza_tutorials/baselines'"
      ]
     },
     "execution_count": 1,
     "metadata": {},
     "output_type": "execute_result"
    }
   ],
   "source": [
    "import os\n",
    "os.environ[\"NBOOKROOT\"] = os.getcwd()\n",
    "os.getenv(\"NBOOKROOT\")"
   ]
  },
  {
   "cell_type": "code",
   "execution_count": 2,
   "metadata": {
    "colab": {
     "base_uri": "https://localhost:8080/"
    },
    "id": "zL0yLZUvFr9P",
    "outputId": "7434b909-ac71-4f3f-c163-2d5870317e9c"
   },
   "outputs": [
    {
     "name": "stdout",
     "output_type": "stream",
     "text": [
      "Cloning git repo...\n",
      "Cloning into 'clarity'...\n",
      "remote: Enumerating objects: 660, done.\u001B[K\n",
      "remote: Counting objects: 100% (660/660), done.\u001B[K\n",
      "remote: Compressing objects: 100% (542/542), done.\u001B[K\n",
      "remote: Total 660 (delta 74), reused 409 (delta 43), pack-reused 0 (from 0)\u001B[K\n",
      "Receiving objects: 100% (660/660), 46.44 MiB | 43.91 MiB/s, done.\n",
      "Resolving deltas: 100% (74/74), done.\n",
      "Note: switching to 'bebd5fce0af22ddce662e3f97871b8dd8bfac721'.\n",
      "\n",
      "You are in 'detached HEAD' state. You can look around, make experimental\n",
      "changes and commit them, and you can discard any commits you make in this\n",
      "state without impacting any branches by switching back to a branch.\n",
      "\n",
      "If you want to create a new branch to retain commits you create, you may\n",
      "do so (now or later) by using -c with the switch command. Example:\n",
      "\n",
      "  git switch -c <new-branch-name>\n",
      "\n",
      "Or undo this operation with:\n",
      "\n",
      "  git switch -\n",
      "\n",
      "Turn off this advice by setting config variable advice.detachedHead to false\n",
      "\n"
     ]
    }
   ],
   "source": [
    "from IPython.display import clear_output\n",
    "\n",
    "import os\n",
    "import sys\n",
    "\n",
    "print(\"Cloning git repo...\")\n",
    "!git clone --depth 1 --branch v0.6.0 https://github.com/claritychallenge/clarity.git"
   ]
  },
  {
   "cell_type": "code",
   "execution_count": 4,
   "metadata": {},
   "outputs": [
    {
     "name": "stdout",
     "output_type": "stream",
     "text": [
      "Installing the pyClarity...\n",
      "\n",
      "/home/gerardoroadabike/Extended/Projects/cadenza_tutorials/baselines/clarity\n"
     ]
    },
    {
     "name": "stderr",
     "output_type": "stream",
     "text": [
      "/home/gerardoroadabike/anaconda3/envs/tutorials/lib/python3.11/site-packages/IPython/core/magics/osm.py:417: UserWarning: This is now an optional IPython functionality, setting dhist requires you to install the `pickleshare` library.\n",
      "  self.shell.db['dhist'] = compress_dhist(dhist)[-100:]\n"
     ]
    },
    {
     "name": "stdout",
     "output_type": "stream",
     "text": [
      "Obtaining file:///home/gerardoroadabike/Extended/Projects/cadenza_tutorials/baselines/clarity\n",
      "  Installing build dependencies ... \u001B[?25ldone\n",
      "\u001B[?25h  Checking if build backend supports build_editable ... \u001B[?25ldone\n",
      "\u001B[?25h  Getting requirements to build editable ... \u001B[?25ldone\n",
      "\u001B[?25h  Preparing editable metadata (pyproject.toml) ... \u001B[?25ldone\n",
      "\u001B[?25hCollecting audioread>=2.1.9 (from pyclarity==0.6.0)\n",
      "  Using cached audioread-3.0.1-py3-none-any.whl.metadata (8.4 kB)\n",
      "Collecting gdown (from pyclarity==0.6.0)\n",
      "  Using cached gdown-5.2.0-py3-none-any.whl.metadata (5.8 kB)\n",
      "Collecting hydra-core>=1.1.1 (from pyclarity==0.6.0)\n",
      "  Using cached hydra_core-1.3.2-py3-none-any.whl.metadata (5.5 kB)\n",
      "Collecting hydra-submitit-launcher>=1.1.6 (from pyclarity==0.6.0)\n",
      "  Using cached hydra_submitit_launcher-1.2.0-py3-none-any.whl.metadata (1.1 kB)\n",
      "Collecting importlib-metadata (from pyclarity==0.6.0)\n",
      "  Using cached importlib_metadata-8.4.0-py3-none-any.whl.metadata (4.7 kB)\n",
      "Collecting librosa>=0.8.1 (from pyclarity==0.6.0)\n",
      "  Using cached librosa-0.10.2.post1-py3-none-any.whl.metadata (8.6 kB)\n",
      "Collecting matplotlib (from pyclarity==0.6.0)\n",
      "  Using cached matplotlib-3.9.2-cp311-cp311-manylinux_2_17_x86_64.manylinux2014_x86_64.whl.metadata (11 kB)\n",
      "Collecting numba>=0.57.0rc (from pyclarity==0.6.0)\n",
      "  Using cached numba-0.60.0-cp311-cp311-manylinux2014_x86_64.manylinux_2_17_x86_64.whl.metadata (2.7 kB)\n",
      "Collecting numpy>=1.21.6 (from pyclarity==0.6.0)\n",
      "  Using cached numpy-2.1.0-cp311-cp311-manylinux_2_17_x86_64.manylinux2014_x86_64.whl.metadata (60 kB)\n",
      "Requirement already satisfied: omegaconf>=2.1.1 in /home/gerardoroadabike/anaconda3/envs/tutorials/lib/python3.11/site-packages (from pyclarity==0.6.0) (2.3.0)\n",
      "Collecting pandas>=1.3.5 (from pyclarity==0.6.0)\n",
      "  Using cached pandas-2.2.2-cp311-cp311-manylinux_2_17_x86_64.manylinux2014_x86_64.whl.metadata (19 kB)\n",
      "Collecting pyflac (from pyclarity==0.6.0)\n",
      "  Using cached pyFLAC-3.0.0-cp311-cp311-linux_x86_64.whl\n",
      "Collecting pyloudnorm>=0.1.0 (from pyclarity==0.6.0)\n",
      "  Using cached pyloudnorm-0.1.1-py3-none-any.whl.metadata (5.6 kB)\n",
      "Collecting pystoi (from pyclarity==0.6.0)\n",
      "  Using cached pystoi-0.4.1-py2.py3-none-any.whl.metadata (4.0 kB)\n",
      "Collecting pytorch-lightning (from pyclarity==0.6.0)\n",
      "  Using cached pytorch_lightning-2.4.0-py3-none-any.whl.metadata (21 kB)\n",
      "Collecting resampy (from pyclarity==0.6.0)\n",
      "  Using cached resampy-0.4.3-py3-none-any.whl.metadata (3.0 kB)\n",
      "Requirement already satisfied: safetensors>=0.4.3 in /home/gerardoroadabike/anaconda3/envs/tutorials/lib/python3.11/site-packages (from pyclarity==0.6.0) (0.4.4)\n",
      "Collecting scikit-learn>=1.0.2 (from pyclarity==0.6.0)\n",
      "  Using cached scikit_learn-1.5.1-cp311-cp311-manylinux_2_17_x86_64.manylinux2014_x86_64.whl.metadata (12 kB)\n",
      "Collecting scipy<1.13.0,>=1.7.3 (from pyclarity==0.6.0)\n",
      "  Using cached scipy-1.12.0-cp311-cp311-manylinux_2_17_x86_64.manylinux2014_x86_64.whl.metadata (60 kB)\n",
      "Collecting SoundFile>=0.10.3.post1 (from pyclarity==0.6.0)\n",
      "  Using cached soundfile-0.12.1-py2.py3-none-manylinux_2_31_x86_64.whl.metadata (14 kB)\n",
      "Collecting soxr (from pyclarity==0.6.0)\n",
      "  Using cached soxr-0.4.0-cp311-cp311-manylinux_2_17_x86_64.manylinux2014_x86_64.whl.metadata (5.5 kB)\n",
      "Collecting torch>=2 (from pyclarity==0.6.0)\n",
      "  Using cached torch-2.4.0-cp311-cp311-manylinux1_x86_64.whl.metadata (26 kB)\n",
      "Collecting torchaudio (from pyclarity==0.6.0)\n",
      "  Using cached torchaudio-2.4.0-cp311-cp311-manylinux1_x86_64.whl.metadata (6.4 kB)\n",
      "Requirement already satisfied: tqdm>=4.62.3 in /home/gerardoroadabike/anaconda3/envs/tutorials/lib/python3.11/site-packages (from pyclarity==0.6.0) (4.66.5)\n",
      "Requirement already satisfied: typing-extensions in /home/gerardoroadabike/anaconda3/envs/tutorials/lib/python3.11/site-packages (from pyclarity==0.6.0) (4.12.2)\n",
      "Requirement already satisfied: antlr4-python3-runtime==4.9.* in /home/gerardoroadabike/anaconda3/envs/tutorials/lib/python3.11/site-packages (from hydra-core>=1.1.1->pyclarity==0.6.0) (4.9.3)\n",
      "Requirement already satisfied: packaging in /home/gerardoroadabike/anaconda3/envs/tutorials/lib/python3.11/site-packages (from hydra-core>=1.1.1->pyclarity==0.6.0) (24.1)\n",
      "Collecting hydra-core>=1.1.1 (from pyclarity==0.6.0)\n",
      "  Using cached hydra_core-1.4.0.dev1-py3-none-any.whl.metadata (5.4 kB)\n",
      "Collecting submitit>=1.3.3 (from hydra-submitit-launcher>=1.1.6->pyclarity==0.6.0)\n",
      "  Using cached submitit-1.5.1-py3-none-any.whl.metadata (8.0 kB)\n",
      "Collecting joblib>=0.14 (from librosa>=0.8.1->pyclarity==0.6.0)\n",
      "  Using cached joblib-1.4.2-py3-none-any.whl.metadata (5.4 kB)\n",
      "Requirement already satisfied: decorator>=4.3.0 in /home/gerardoroadabike/anaconda3/envs/tutorials/lib/python3.11/site-packages (from librosa>=0.8.1->pyclarity==0.6.0) (5.1.1)\n",
      "Collecting pooch>=1.1 (from librosa>=0.8.1->pyclarity==0.6.0)\n",
      "  Using cached pooch-1.8.2-py3-none-any.whl.metadata (10 kB)\n",
      "Collecting lazy-loader>=0.1 (from librosa>=0.8.1->pyclarity==0.6.0)\n",
      "  Using cached lazy_loader-0.4-py3-none-any.whl.metadata (7.6 kB)\n",
      "Collecting msgpack>=1.0 (from librosa>=0.8.1->pyclarity==0.6.0)\n",
      "  Using cached msgpack-1.0.8-cp311-cp311-manylinux_2_17_x86_64.manylinux2014_x86_64.whl.metadata (9.1 kB)\n",
      "Collecting llvmlite<0.44,>=0.43.0dev0 (from numba>=0.57.0rc->pyclarity==0.6.0)\n",
      "  Using cached llvmlite-0.43.0-cp311-cp311-manylinux_2_17_x86_64.manylinux2014_x86_64.whl.metadata (4.8 kB)\n",
      "Collecting numpy>=1.21.6 (from pyclarity==0.6.0)\n",
      "  Using cached numpy-2.0.1-cp311-cp311-manylinux_2_17_x86_64.manylinux2014_x86_64.whl.metadata (60 kB)\n",
      "Requirement already satisfied: PyYAML>=5.1.0 in /home/gerardoroadabike/anaconda3/envs/tutorials/lib/python3.11/site-packages (from omegaconf>=2.1.1->pyclarity==0.6.0) (6.0.2)\n",
      "Requirement already satisfied: python-dateutil>=2.8.2 in /home/gerardoroadabike/anaconda3/envs/tutorials/lib/python3.11/site-packages (from pandas>=1.3.5->pyclarity==0.6.0) (2.9.0.post0)\n",
      "Requirement already satisfied: pytz>=2020.1 in /home/gerardoroadabike/anaconda3/envs/tutorials/lib/python3.11/site-packages (from pandas>=1.3.5->pyclarity==0.6.0) (2024.1)\n",
      "Requirement already satisfied: tzdata>=2022.7 in /home/gerardoroadabike/anaconda3/envs/tutorials/lib/python3.11/site-packages (from pandas>=1.3.5->pyclarity==0.6.0) (2024.1)\n",
      "Collecting future>=0.16.0 (from pyloudnorm>=0.1.0->pyclarity==0.6.0)\n",
      "  Using cached future-1.0.0-py3-none-any.whl.metadata (4.0 kB)\n",
      "Requirement already satisfied: threadpoolctl>=3.1.0 in /home/gerardoroadabike/anaconda3/envs/tutorials/lib/python3.11/site-packages (from scikit-learn>=1.0.2->pyclarity==0.6.0) (3.5.0)\n",
      "Collecting numpy>=1.21.6 (from pyclarity==0.6.0)\n",
      "  Using cached numpy-1.26.4-cp311-cp311-manylinux_2_17_x86_64.manylinux2014_x86_64.whl.metadata (61 kB)\n",
      "Requirement already satisfied: cffi>=1.0 in /home/gerardoroadabike/anaconda3/envs/tutorials/lib/python3.11/site-packages (from SoundFile>=0.10.3.post1->pyclarity==0.6.0) (1.17.0)\n",
      "Collecting filelock (from torch>=2->pyclarity==0.6.0)\n",
      "  Using cached filelock-3.15.4-py3-none-any.whl.metadata (2.9 kB)\n",
      "Requirement already satisfied: sympy in /home/gerardoroadabike/anaconda3/envs/tutorials/lib/python3.11/site-packages (from torch>=2->pyclarity==0.6.0) (1.13.2)\n",
      "Collecting networkx (from torch>=2->pyclarity==0.6.0)\n",
      "  Using cached networkx-3.3-py3-none-any.whl.metadata (5.1 kB)\n",
      "Requirement already satisfied: jinja2 in /home/gerardoroadabike/anaconda3/envs/tutorials/lib/python3.11/site-packages (from torch>=2->pyclarity==0.6.0) (3.1.4)\n",
      "Collecting fsspec (from torch>=2->pyclarity==0.6.0)\n",
      "  Using cached fsspec-2024.6.1-py3-none-any.whl.metadata (11 kB)\n",
      "Requirement already satisfied: nvidia-cuda-nvrtc-cu12==12.1.105 in /home/gerardoroadabike/anaconda3/envs/tutorials/lib/python3.11/site-packages (from torch>=2->pyclarity==0.6.0) (12.1.105)\n",
      "Requirement already satisfied: nvidia-cuda-runtime-cu12==12.1.105 in /home/gerardoroadabike/anaconda3/envs/tutorials/lib/python3.11/site-packages (from torch>=2->pyclarity==0.6.0) (12.1.105)\n",
      "Requirement already satisfied: nvidia-cuda-cupti-cu12==12.1.105 in /home/gerardoroadabike/anaconda3/envs/tutorials/lib/python3.11/site-packages (from torch>=2->pyclarity==0.6.0) (12.1.105)\n",
      "Collecting nvidia-cudnn-cu12==9.1.0.70 (from torch>=2->pyclarity==0.6.0)\n",
      "  Using cached nvidia_cudnn_cu12-9.1.0.70-py3-none-manylinux2014_x86_64.whl.metadata (1.6 kB)\n",
      "Collecting nvidia-cublas-cu12==12.1.3.1 (from torch>=2->pyclarity==0.6.0)\n",
      "  Using cached nvidia_cublas_cu12-12.1.3.1-py3-none-manylinux1_x86_64.whl.metadata (1.5 kB)\n",
      "Requirement already satisfied: nvidia-cufft-cu12==11.0.2.54 in /home/gerardoroadabike/anaconda3/envs/tutorials/lib/python3.11/site-packages (from torch>=2->pyclarity==0.6.0) (11.0.2.54)\n",
      "Requirement already satisfied: nvidia-curand-cu12==10.3.2.106 in /home/gerardoroadabike/anaconda3/envs/tutorials/lib/python3.11/site-packages (from torch>=2->pyclarity==0.6.0) (10.3.2.106)\n",
      "Collecting nvidia-cusolver-cu12==11.4.5.107 (from torch>=2->pyclarity==0.6.0)\n",
      "  Using cached nvidia_cusolver_cu12-11.4.5.107-py3-none-manylinux1_x86_64.whl.metadata (1.6 kB)\n",
      "Collecting nvidia-cusparse-cu12==12.1.0.106 (from torch>=2->pyclarity==0.6.0)\n",
      "  Using cached nvidia_cusparse_cu12-12.1.0.106-py3-none-manylinux1_x86_64.whl.metadata (1.6 kB)\n",
      "Requirement already satisfied: nvidia-nccl-cu12==2.20.5 in /home/gerardoroadabike/anaconda3/envs/tutorials/lib/python3.11/site-packages (from torch>=2->pyclarity==0.6.0) (2.20.5)\n",
      "Requirement already satisfied: nvidia-nvtx-cu12==12.1.105 in /home/gerardoroadabike/anaconda3/envs/tutorials/lib/python3.11/site-packages (from torch>=2->pyclarity==0.6.0) (12.1.105)\n",
      "Collecting triton==3.0.0 (from torch>=2->pyclarity==0.6.0)\n",
      "  Using cached triton-3.0.0-1-cp311-cp311-manylinux2014_x86_64.manylinux_2_17_x86_64.whl.metadata (1.3 kB)\n",
      "Requirement already satisfied: nvidia-nvjitlink-cu12 in /home/gerardoroadabike/anaconda3/envs/tutorials/lib/python3.11/site-packages (from nvidia-cusolver-cu12==11.4.5.107->torch>=2->pyclarity==0.6.0) (12.6.20)\n",
      "Requirement already satisfied: beautifulsoup4 in /home/gerardoroadabike/anaconda3/envs/tutorials/lib/python3.11/site-packages (from gdown->pyclarity==0.6.0) (4.12.3)\n",
      "Requirement already satisfied: requests[socks] in /home/gerardoroadabike/anaconda3/envs/tutorials/lib/python3.11/site-packages (from gdown->pyclarity==0.6.0) (2.32.3)\n",
      "Requirement already satisfied: zipp>=0.5 in /home/gerardoroadabike/anaconda3/envs/tutorials/lib/python3.11/site-packages (from importlib-metadata->pyclarity==0.6.0) (3.20.0)\n",
      "Collecting contourpy>=1.0.1 (from matplotlib->pyclarity==0.6.0)\n",
      "  Using cached contourpy-1.2.1-cp311-cp311-manylinux_2_17_x86_64.manylinux2014_x86_64.whl.metadata (5.8 kB)\n",
      "Collecting cycler>=0.10 (from matplotlib->pyclarity==0.6.0)\n",
      "  Using cached cycler-0.12.1-py3-none-any.whl.metadata (3.8 kB)\n",
      "Collecting fonttools>=4.22.0 (from matplotlib->pyclarity==0.6.0)\n",
      "  Using cached fonttools-4.53.1-cp311-cp311-manylinux_2_17_x86_64.manylinux2014_x86_64.whl.metadata (162 kB)\n",
      "Collecting kiwisolver>=1.3.1 (from matplotlib->pyclarity==0.6.0)\n",
      "  Using cached kiwisolver-1.4.5-cp311-cp311-manylinux_2_17_x86_64.manylinux2014_x86_64.whl.metadata (6.4 kB)\n",
      "Requirement already satisfied: pillow>=8 in /home/gerardoroadabike/anaconda3/envs/tutorials/lib/python3.11/site-packages (from matplotlib->pyclarity==0.6.0) (10.4.0)\n",
      "Requirement already satisfied: pyparsing>=2.3.1 in /home/gerardoroadabike/anaconda3/envs/tutorials/lib/python3.11/site-packages (from matplotlib->pyclarity==0.6.0) (3.1.2)\n",
      "Collecting torchmetrics>=0.7.0 (from pytorch-lightning->pyclarity==0.6.0)\n",
      "  Using cached torchmetrics-1.4.1-py3-none-any.whl.metadata (20 kB)\n",
      "Collecting lightning-utilities>=0.10.0 (from pytorch-lightning->pyclarity==0.6.0)\n",
      "  Using cached lightning_utilities-0.11.6-py3-none-any.whl.metadata (5.2 kB)\n",
      "Requirement already satisfied: pycparser in /home/gerardoroadabike/anaconda3/envs/tutorials/lib/python3.11/site-packages (from cffi>=1.0->SoundFile>=0.10.3.post1->pyclarity==0.6.0) (2.22)\n",
      "Collecting aiohttp!=4.0.0a0,!=4.0.0a1 (from fsspec[http]>=2022.5.0->pytorch-lightning->pyclarity==0.6.0)\n",
      "  Using cached aiohttp-3.10.5-cp311-cp311-manylinux_2_17_x86_64.manylinux2014_x86_64.whl.metadata (7.5 kB)\n",
      "Requirement already satisfied: setuptools in /home/gerardoroadabike/anaconda3/envs/tutorials/lib/python3.11/site-packages (from lightning-utilities>=0.10.0->pytorch-lightning->pyclarity==0.6.0) (72.1.0)\n",
      "Requirement already satisfied: platformdirs>=2.5.0 in /home/gerardoroadabike/anaconda3/envs/tutorials/lib/python3.11/site-packages (from pooch>=1.1->librosa>=0.8.1->pyclarity==0.6.0) (4.2.2)\n",
      "Requirement already satisfied: six>=1.5 in /home/gerardoroadabike/anaconda3/envs/tutorials/lib/python3.11/site-packages (from python-dateutil>=2.8.2->pandas>=1.3.5->pyclarity==0.6.0) (1.16.0)\n",
      "Collecting cloudpickle>=1.2.1 (from submitit>=1.3.3->hydra-submitit-launcher>=1.1.6->pyclarity==0.6.0)\n",
      "  Using cached cloudpickle-3.0.0-py3-none-any.whl.metadata (7.0 kB)\n",
      "Requirement already satisfied: soupsieve>1.2 in /home/gerardoroadabike/anaconda3/envs/tutorials/lib/python3.11/site-packages (from beautifulsoup4->gdown->pyclarity==0.6.0) (2.6)\n",
      "Requirement already satisfied: MarkupSafe>=2.0 in /home/gerardoroadabike/anaconda3/envs/tutorials/lib/python3.11/site-packages (from jinja2->torch>=2->pyclarity==0.6.0) (2.1.5)\n",
      "Requirement already satisfied: charset-normalizer<4,>=2 in /home/gerardoroadabike/anaconda3/envs/tutorials/lib/python3.11/site-packages (from requests[socks]->gdown->pyclarity==0.6.0) (3.3.2)\n",
      "Requirement already satisfied: idna<4,>=2.5 in /home/gerardoroadabike/anaconda3/envs/tutorials/lib/python3.11/site-packages (from requests[socks]->gdown->pyclarity==0.6.0) (3.7)\n",
      "Requirement already satisfied: urllib3<3,>=1.21.1 in /home/gerardoroadabike/anaconda3/envs/tutorials/lib/python3.11/site-packages (from requests[socks]->gdown->pyclarity==0.6.0) (2.2.2)\n",
      "Requirement already satisfied: certifi>=2017.4.17 in /home/gerardoroadabike/anaconda3/envs/tutorials/lib/python3.11/site-packages (from requests[socks]->gdown->pyclarity==0.6.0) (2024.7.4)\n",
      "Requirement already satisfied: PySocks!=1.5.7,>=1.5.6 in /home/gerardoroadabike/anaconda3/envs/tutorials/lib/python3.11/site-packages (from requests[socks]->gdown->pyclarity==0.6.0) (1.7.1)\n",
      "Requirement already satisfied: mpmath<1.4,>=1.1.0 in /home/gerardoroadabike/anaconda3/envs/tutorials/lib/python3.11/site-packages (from sympy->torch>=2->pyclarity==0.6.0) (1.3.0)\n",
      "Collecting aiohappyeyeballs>=2.3.0 (from aiohttp!=4.0.0a0,!=4.0.0a1->fsspec[http]>=2022.5.0->pytorch-lightning->pyclarity==0.6.0)\n",
      "  Using cached aiohappyeyeballs-2.4.0-py3-none-any.whl.metadata (5.9 kB)\n",
      "Collecting aiosignal>=1.1.2 (from aiohttp!=4.0.0a0,!=4.0.0a1->fsspec[http]>=2022.5.0->pytorch-lightning->pyclarity==0.6.0)\n",
      "  Using cached aiosignal-1.3.1-py3-none-any.whl.metadata (4.0 kB)\n",
      "Requirement already satisfied: attrs>=17.3.0 in /home/gerardoroadabike/anaconda3/envs/tutorials/lib/python3.11/site-packages (from aiohttp!=4.0.0a0,!=4.0.0a1->fsspec[http]>=2022.5.0->pytorch-lightning->pyclarity==0.6.0) (24.2.0)\n",
      "Collecting frozenlist>=1.1.1 (from aiohttp!=4.0.0a0,!=4.0.0a1->fsspec[http]>=2022.5.0->pytorch-lightning->pyclarity==0.6.0)\n",
      "  Using cached frozenlist-1.4.1-cp311-cp311-manylinux_2_5_x86_64.manylinux1_x86_64.manylinux_2_17_x86_64.manylinux2014_x86_64.whl.metadata (12 kB)\n",
      "Collecting multidict<7.0,>=4.5 (from aiohttp!=4.0.0a0,!=4.0.0a1->fsspec[http]>=2022.5.0->pytorch-lightning->pyclarity==0.6.0)\n",
      "  Using cached multidict-6.0.5-cp311-cp311-manylinux_2_17_x86_64.manylinux2014_x86_64.whl.metadata (4.2 kB)\n",
      "Collecting yarl<2.0,>=1.0 (from aiohttp!=4.0.0a0,!=4.0.0a1->fsspec[http]>=2022.5.0->pytorch-lightning->pyclarity==0.6.0)\n",
      "  Using cached yarl-1.9.4-cp311-cp311-manylinux_2_17_x86_64.manylinux2014_x86_64.whl.metadata (31 kB)\n",
      "Using cached audioread-3.0.1-py3-none-any.whl (23 kB)\n",
      "Using cached hydra_core-1.3.2-py3-none-any.whl (154 kB)\n",
      "Using cached hydra_submitit_launcher-1.2.0-py3-none-any.whl (5.2 kB)\n",
      "Using cached librosa-0.10.2.post1-py3-none-any.whl (260 kB)\n",
      "Using cached numba-0.60.0-cp311-cp311-manylinux2014_x86_64.manylinux_2_17_x86_64.whl (3.7 MB)\n",
      "Using cached pandas-2.2.2-cp311-cp311-manylinux_2_17_x86_64.manylinux2014_x86_64.whl (13.0 MB)\n",
      "Using cached pyloudnorm-0.1.1-py3-none-any.whl (9.6 kB)\n",
      "Using cached scikit_learn-1.5.1-cp311-cp311-manylinux_2_17_x86_64.manylinux2014_x86_64.whl (13.3 MB)\n",
      "Using cached scipy-1.12.0-cp311-cp311-manylinux_2_17_x86_64.manylinux2014_x86_64.whl (38.4 MB)\n",
      "Using cached numpy-1.26.4-cp311-cp311-manylinux_2_17_x86_64.manylinux2014_x86_64.whl (18.3 MB)\n",
      "Using cached soundfile-0.12.1-py2.py3-none-manylinux_2_31_x86_64.whl (1.2 MB)\n",
      "Using cached soxr-0.4.0-cp311-cp311-manylinux_2_17_x86_64.manylinux2014_x86_64.whl (1.3 MB)\n",
      "Using cached torch-2.4.0-cp311-cp311-manylinux1_x86_64.whl (797.3 MB)\n",
      "Using cached nvidia_cublas_cu12-12.1.3.1-py3-none-manylinux1_x86_64.whl (410.6 MB)\n",
      "Using cached nvidia_cudnn_cu12-9.1.0.70-py3-none-manylinux2014_x86_64.whl (664.8 MB)\n",
      "Using cached nvidia_cusolver_cu12-11.4.5.107-py3-none-manylinux1_x86_64.whl (124.2 MB)\n",
      "Using cached nvidia_cusparse_cu12-12.1.0.106-py3-none-manylinux1_x86_64.whl (196.0 MB)\n",
      "Using cached triton-3.0.0-1-cp311-cp311-manylinux2014_x86_64.manylinux_2_17_x86_64.whl (209.4 MB)\n",
      "Using cached gdown-5.2.0-py3-none-any.whl (18 kB)\n",
      "Using cached importlib_metadata-8.4.0-py3-none-any.whl (26 kB)\n",
      "Using cached matplotlib-3.9.2-cp311-cp311-manylinux_2_17_x86_64.manylinux2014_x86_64.whl (8.3 MB)\n",
      "Using cached pystoi-0.4.1-py2.py3-none-any.whl (8.2 kB)\n",
      "Using cached pytorch_lightning-2.4.0-py3-none-any.whl (815 kB)\n",
      "Using cached resampy-0.4.3-py3-none-any.whl (3.1 MB)\n",
      "Using cached torchaudio-2.4.0-cp311-cp311-manylinux1_x86_64.whl (3.4 MB)\n",
      "Using cached contourpy-1.2.1-cp311-cp311-manylinux_2_17_x86_64.manylinux2014_x86_64.whl (306 kB)\n",
      "Using cached cycler-0.12.1-py3-none-any.whl (8.3 kB)\n",
      "Using cached fonttools-4.53.1-cp311-cp311-manylinux_2_17_x86_64.manylinux2014_x86_64.whl (4.9 MB)\n",
      "Using cached fsspec-2024.6.1-py3-none-any.whl (177 kB)\n",
      "Using cached future-1.0.0-py3-none-any.whl (491 kB)\n",
      "Using cached joblib-1.4.2-py3-none-any.whl (301 kB)\n",
      "Using cached kiwisolver-1.4.5-cp311-cp311-manylinux_2_17_x86_64.manylinux2014_x86_64.whl (1.4 MB)\n",
      "Using cached lazy_loader-0.4-py3-none-any.whl (12 kB)\n",
      "Using cached lightning_utilities-0.11.6-py3-none-any.whl (26 kB)\n",
      "Using cached llvmlite-0.43.0-cp311-cp311-manylinux_2_17_x86_64.manylinux2014_x86_64.whl (43.9 MB)\n",
      "Using cached msgpack-1.0.8-cp311-cp311-manylinux_2_17_x86_64.manylinux2014_x86_64.whl (409 kB)\n",
      "Using cached pooch-1.8.2-py3-none-any.whl (64 kB)\n",
      "Using cached submitit-1.5.1-py3-none-any.whl (74 kB)\n",
      "Using cached torchmetrics-1.4.1-py3-none-any.whl (866 kB)\n",
      "Using cached filelock-3.15.4-py3-none-any.whl (16 kB)\n",
      "Using cached networkx-3.3-py3-none-any.whl (1.7 MB)\n",
      "Using cached aiohttp-3.10.5-cp311-cp311-manylinux_2_17_x86_64.manylinux2014_x86_64.whl (1.3 MB)\n",
      "Using cached cloudpickle-3.0.0-py3-none-any.whl (20 kB)\n",
      "Using cached aiohappyeyeballs-2.4.0-py3-none-any.whl (12 kB)\n",
      "Using cached aiosignal-1.3.1-py3-none-any.whl (7.6 kB)\n",
      "Using cached frozenlist-1.4.1-cp311-cp311-manylinux_2_5_x86_64.manylinux1_x86_64.manylinux_2_17_x86_64.manylinux2014_x86_64.whl (272 kB)\n",
      "Using cached multidict-6.0.5-cp311-cp311-manylinux_2_17_x86_64.manylinux2014_x86_64.whl (128 kB)\n",
      "Using cached yarl-1.9.4-cp311-cp311-manylinux_2_17_x86_64.manylinux2014_x86_64.whl (328 kB)\n",
      "Building wheels for collected packages: pyclarity\n",
      "  Building editable for pyclarity (pyproject.toml) ... \u001B[?25ldone\n",
      "\u001B[?25h  Created wheel for pyclarity: filename=pyclarity-0.6.0-0.editable-py3-none-any.whl size=7195 sha256=dbe0d14d4e8d2874da16bc39442bf2320b51593f5d6afaedc9aa224ebbb4a39a\n",
      "  Stored in directory: /tmp/pip-ephem-wheel-cache-dtgdtenc/wheels/af/03/6f/96df2d4725e5d318ac2be58c3c13f7d0d1195406a81b593e8d\n",
      "Successfully built pyclarity\n",
      "Installing collected packages: nvidia-cusparse-cu12, nvidia-cublas-cu12, numpy, networkx, multidict, msgpack, llvmlite, lightning-utilities, lazy-loader, kiwisolver, joblib, importlib-metadata, future, fsspec, frozenlist, fonttools, filelock, cycler, cloudpickle, audioread, aiohappyeyeballs, yarl, triton, submitit, soxr, SoundFile, scipy, pooch, pandas, nvidia-cusolver-cu12, nvidia-cudnn-cu12, numba, hydra-core, contourpy, aiosignal, torch, scikit-learn, resampy, pystoi, pyloudnorm, pyflac, matplotlib, hydra-submitit-launcher, gdown, aiohttp, torchmetrics, torchaudio, librosa, pytorch-lightning, pyclarity\n",
      "Successfully installed SoundFile-0.12.1 aiohappyeyeballs-2.4.0 aiohttp-3.10.5 aiosignal-1.3.1 audioread-3.0.1 cloudpickle-3.0.0 contourpy-1.2.1 cycler-0.12.1 filelock-3.15.4 fonttools-4.53.1 frozenlist-1.4.1 fsspec-2024.6.1 future-1.0.0 gdown-5.2.0 hydra-core-1.3.2 hydra-submitit-launcher-1.2.0 importlib-metadata-8.4.0 joblib-1.4.2 kiwisolver-1.4.5 lazy-loader-0.4 librosa-0.10.2.post1 lightning-utilities-0.11.6 llvmlite-0.43.0 matplotlib-3.9.2 msgpack-1.0.8 multidict-6.0.5 networkx-3.3 numba-0.60.0 numpy-1.26.4 nvidia-cublas-cu12-12.1.3.1 nvidia-cudnn-cu12-9.1.0.70 nvidia-cusolver-cu12-11.4.5.107 nvidia-cusparse-cu12-12.1.0.106 pandas-2.2.2 pooch-1.8.2 pyclarity-0.6.0 pyflac-3.0.0 pyloudnorm-0.1.1 pystoi-0.4.1 pytorch-lightning-2.4.0 resampy-0.4.3 scikit-learn-1.5.1 scipy-1.12.0 soxr-0.4.0 submitit-1.5.1 torch-2.4.0 torchaudio-2.4.0 torchmetrics-1.4.1 triton-3.0.0 yarl-1.9.4\n",
      "Note: you may need to restart the kernel to use updated packages.\n",
      "Repository installed\n"
     ]
    }
   ],
   "source": [
    "print(\"Installing the pyClarity...\\n\")\n",
    "%cd clarity\n",
    "%pip install -e .\n",
    "\n",
    "sys.path.append(f'{os.getenv(\"NBOOKROOT\")}/clarity')\n",
    "\n",
    "clear_output()\n",
    "print(\"Repository installed\")"
   ]
  },
  {
   "cell_type": "markdown",
   "metadata": {
    "id": "8pXJVSt-F-NN"
   },
   "source": [
    "## Get the demo data\n",
    "\n",
    "We will be using music audio and listener metadata."
   ]
  },
  {
   "cell_type": "code",
   "execution_count": 5,
   "metadata": {
    "colab": {
     "base_uri": "https://localhost:8080/"
    },
    "id": "TpG-bGs8Fzgl",
    "outputId": "438666a1-ac21-4532-a340-baefee85202d"
   },
   "outputs": [
    {
     "name": "stdout",
     "output_type": "stream",
     "text": [
      "Downloading...\n",
      "From (original): https://drive.google.com/uc?id=1UqiqwYJuyC1o-C14DpVL4QYncsOGCvHF\n",
      "From (redirected): https://drive.google.com/uc?id=1UqiqwYJuyC1o-C14DpVL4QYncsOGCvHF&confirm=t&uuid=df90d9d5-aaf0-471f-bfb5-6d18f997dea2\n",
      "To: /home/gerardoroadabike/Extended/Projects/cadenza_tutorials/baselines/clarity/cad2_demo_data.tar.xz\n",
      "100%|████████████████████████████████████████| 132M/132M [00:02<00:00, 54.1MB/s]\n",
      "tar: cad2_demo_data.tar.xz: Cannot open: No such file or directory\n",
      "tar: Error is not recoverable: exiting now\n",
      "Data installed\n"
     ]
    }
   ],
   "source": [
    "!gdown 1UqiqwYJuyC1o-C14DpVL4QYncsOGCvHF\n",
    "!mv cad2_demo_data.tar.xz recipes/cad2\n",
    "%cd \n",
    "!tar -xvf cad2_demo_data.tar.xz\n",
    "\n",
    "print(\"Data installed\")"
   ]
  },
  {
   "cell_type": "markdown",
   "metadata": {
    "id": "a0gQKwx8GnfD"
   },
   "source": [
    "## Changing working Directory\n",
    "\n",
    "Next, we change working directory to the location of the shell scripts we wish to run."
   ]
  },
  {
   "cell_type": "code",
   "execution_count": null,
   "metadata": {
    "colab": {
     "base_uri": "https://localhost:8080/",
     "height": 53
    },
    "id": "fopV37z6GSoO",
    "outputId": "791191b3-6176-427c-bc62-63cd45196b57"
   },
   "outputs": [
    {
     "name": "stdout",
     "output_type": "stream",
     "text": [
      "/content/clarity/recipes/cad1/task1/baseline\n"
     ]
    },
    {
     "data": {
      "application/vnd.google.colaboratory.intrinsic+json": {
       "type": "string"
      },
      "text/plain": [
       "'/content/clarity/recipes/cad1/task1/baseline'"
      ]
     },
     "execution_count": 4,
     "metadata": {},
     "output_type": "execute_result"
    }
   ],
   "source": [
    "%cd {os.environ['NBOOKROOT']}/clarity/recipes/cad1/task1/baseline\n",
    "%pwd"
   ]
  },
  {
   "cell_type": "markdown",
   "metadata": {
    "id": "jWFEskB3HgGM"
   },
   "source": [
    "## Inspecting Existing Configuration\n",
    "\n",
    "All of the included shell scripts take configurable variables from the yaml files in the same directory as the shell script.Typically these are named <code>config.yaml</code>, however, other names may be used if more than one shell script is in a directory.\n",
    "\n",
    "We can inspect the contents of the config file using <code>!cat</code>:"
   ]
  },
  {
   "cell_type": "code",
   "execution_count": null,
   "metadata": {
    "colab": {
     "base_uri": "https://localhost:8080/"
    },
    "id": "CwQbLMMXGsdp",
    "outputId": "fe5611e3-f7f2-4402-eabe-e3e06429b187"
   },
   "outputs": [
    {
     "name": "stdout",
     "output_type": "stream",
     "text": [
      "path:\n",
      "  root: ./\n",
      "  metadata_dir: ${path.root}/task1/metadata\n",
      "  music_dir: ${path.root}/task1/audio/musdb18hq\n",
      "  music_train_file: ${path.metadata_dir}/musdb18.train.json\n",
      "  music_valid_file: ${path.metadata_dir}/musdb18.valid.json\n",
      "  listeners_train_file: ${path.metadata_dir}/listeners.train.json\n",
      "  listeners_valid_file: ${path.metadata_dir}/listeners.valid.json\n",
      "  exp_folder: ./exp # folder to store enhanced signals and final results\n",
      "\n",
      "nalr:\n",
      "  nfir: 220\n",
      "  fs: 44100\n",
      "\n",
      "apply_compressor: False\n",
      "compressor:\n",
      "  threshold: 0.35\n",
      "  attenuation: 0.1\n",
      "  attack: 50\n",
      "  release: 1000\n",
      "  rms_buffer_size: 0.064\n",
      "\n",
      "soft_clip: True\n",
      "\n",
      "separator:\n",
      "  device: ~\n",
      "\n",
      "evaluate:\n",
      "  set_random_seed: True\n",
      "  small_test: False\n",
      "  batch_size: 5  # Number of batches\n",
      "  batch: 0       # Batch number to evaluate\n",
      "\n",
      "# hydra config\n",
      "hydra:\n",
      "  run:\n",
      "    dir: ${path.exp_folder}"
     ]
    }
   ],
   "source": [
    "!cat config.yaml"
   ]
  },
  {
   "cell_type": "markdown",
   "metadata": {
    "id": "PorM62C9HpQq"
   },
   "source": [
    "The general organisation of the config files is hierarchical, with property labels depending on the script in question. The config file for the enhance and evaluate recipes contains configurable paramaters for both scripts. These include:\n",
    "- Paths for the locations of audio files, metadata and the export location for generated files\n",
    "- Paramaters for the NAL-R fitting\n",
    "- Paramaters for the automatic gain control (AGC) compressor used in the baseline enhancer\n",
    "- Parameters for the challenge evaluator\n",
    "- Parameters necessary for Hydra to run\n",
    "\n",
    "The path.root parameter defaults to the root of the baseline and must be overrided with a dataset root path when the python script is called in the command line.\n",
    "\n",
    "e.g\n",
    "\n",
    "```\n",
    "user:~$ python mypythonscript.py path.root='/path/to/project'\n",
    "```\n",
    "\n",
    "In this notebook we will use the environment variable <code>$NBOOKROOT</code> which we defined at the start of the tutorial.\n",
    "\n",
    "Note the lack of slash at the end of the <code>path.root</code> argument string. If you inspect a variable such as <code>path.metadata_dir</code> you will see that this slash is already included in the line.\n",
    "\n",
    "```\n",
    "path:\n",
    "  root: ./\n",
    "  metadata_dir: ${path.root}/task1/metadata\n",
    "\n",
    "```"
   ]
  },
  {
   "cell_type": "markdown",
   "metadata": {
    "id": "u7nvI7seIlQH"
   },
   "source": [
    "The general form for overriding a parameter in the CLI is dot indexed. For the following entry in a <code>config.yaml</code> file:\n",
    "```\n",
    "A:\n",
    "  B:\n",
    "    parameter_0: some_value\n",
    "    parameter_1: some_other_value\n",
    "```\n",
    "The CLI syntax to override those values would be:\n",
    "\n",
    "```\n",
    "User:~$ python myscript.py A.B.parameter_0=\"new_value\" A.B.parameter_1=\"another_new_value\"\n",
    "```"
   ]
  },
  {
   "cell_type": "markdown",
   "metadata": {
    "id": "oCGGqlrjIo9w"
   },
   "source": [
    "## Shell Scripts\n",
    "\n",
    "Typically, as stated above, all the work is done within python with configurable variables supplied by a <code>yaml</code> file which is parsed by Hydra inside the python code.\n",
    "\n",
    "The execution of this code is performed in the CLI and new configuration variable values are supplied as arguments to override defaults."
   ]
  },
  {
   "cell_type": "markdown",
   "metadata": {
    "id": "yr-tKXpFIsWl"
   },
   "source": [
    "---\n",
    "### Additional steps for Colab Notebooks\n",
    "This version of this tutorial is designed to run on Google Colab. The editable installation of the clarity repository is by default not visible to the python interpreter in this environment, even though the installation cell above makes the clarity tools visible to the iPython interpreter.\n",
    "\n",
    "As such, we need to make sure that the standard python interpreter called in the shell magic that follows below has the location of the clarity packages in the PYTHONPATH variable.\n",
    "\n",
    "For local environments, this step may not be necessary."
   ]
  },
  {
   "cell_type": "code",
   "execution_count": null,
   "metadata": {
    "colab": {
     "base_uri": "https://localhost:8080/"
    },
    "id": "3w5krs-ZHjcj",
    "outputId": "3e8bd8aa-0a59-4466-822e-09762a801988"
   },
   "outputs": [
    {
     "name": "stdout",
     "output_type": "stream",
     "text": [
      "env: PYTHONPATH=$PYTHONPATH:/content/clarity\n"
     ]
    }
   ],
   "source": [
    "%env PYTHONPATH=$PYTHONPATH:/content/clarity"
   ]
  },
  {
   "cell_type": "markdown",
   "metadata": {
    "id": "quq_sa9fIyTK"
   },
   "source": [
    "---\n",
    "We are now ready to run the prepared python script. However, the standard configuration is designed to work with the full clarity dataset. We can redirect the script to the correct folders by overriding the appropriate configuration parameters."
   ]
  },
  {
   "cell_type": "code",
   "execution_count": null,
   "metadata": {
    "colab": {
     "base_uri": "https://localhost:8080/"
    },
    "id": "NnDcNpa-Iv03",
    "outputId": "aabb3c37-4f25-4d32-dc1b-e2fb9644e366"
   },
   "outputs": [
    {
     "name": "stdout",
     "output_type": "stream",
     "text": [
      "[2023-03-03 11:30:24,122][torchaudio.utils.download][INFO] - The local file (/root/.cache/torch/hub/torchaudio/models/hdemucs_high_musdbhq_only.pt) exists. Skipping the download.\n",
      "[2023-03-03 11:30:24,614][__main__][INFO] - [001/001)] Processing Actions - One Minute Smile for L5076...\n"
     ]
    }
   ],
   "source": [
    "%%shell\n",
    "python enhance.py \\\n",
    "path.root=../cadenza_data_demo/cad1"
   ]
  },
  {
   "cell_type": "markdown",
   "metadata": {
    "id": "8Xg_KoBXLFni"
   },
   "source": [
    "Now we have the enhanced output. Below, we can load and play the audio to listen to examples of the results."
   ]
  },
  {
   "cell_type": "code",
   "execution_count": null,
   "metadata": {
    "id": "RdddH8k_JOyR"
   },
   "outputs": [],
   "source": [
    "from os import listdir\n",
    "from os.path import isfile, join\n",
    "from pathlib import Path\n",
    "from scipy.io import wavfile\n",
    "\n",
    "import IPython.display as ipd\n",
    "\n",
    "audio_path = Path(\"exp/enhanced_signals\")\n",
    "audio_files = [f for f in audio_path.glob('*/*/*') if f.suffix == '.wav']\n",
    "\n",
    "for file_to_play in audio_files:\n",
    "  sample_rate, signal = wavfile.read(file_to_play)\n",
    "  # Take only 30 seconds\n",
    "  if signal.shape[-1] == 1:\n",
    "    signal = signal[30*sample_rate:60*sample_rate, :]\n",
    "  else:\n",
    "    signal = signal[30*sample_rate:60*sample_rate]\n",
    "  print(file_to_play.name)\n",
    "  ipd.display(ipd.Audio(signal.T, rate=sample_rate))"
   ]
  },
  {
   "cell_type": "markdown",
   "metadata": {
    "id": "nMKBDkc4Nsl_"
   },
   "source": [
    "Now that we have enhanced audios we can use the evaluate recipe to generate HAAQI scores for the signals. The evaluation is run in the same manner as the enhancement script."
   ]
  },
  {
   "cell_type": "code",
   "execution_count": null,
   "metadata": {
    "id": "BFvYiF15LJEu"
   },
   "outputs": [],
   "source": [
    "%%shell\n",
    "python evaluate.py \\\n",
    "path.root=../cadenza_data_demo/cad1"
   ]
  },
  {
   "cell_type": "markdown",
   "metadata": {
    "id": "K9yB6XdlOCRp"
   },
   "source": [
    "We hope that this tutorial has been useful and has explained the process for using the recipe scripts using the Hydra configuration system. This approach can be applied to all of the recipes that are included in the repository."
   ]
  },
  {
   "cell_type": "code",
   "execution_count": null,
   "metadata": {
    "id": "uEgjJQd6N655"
   },
   "outputs": [],
   "source": []
  }
 ],
 "metadata": {
  "colab": {
   "provenance": []
  },
  "kernelspec": {
   "display_name": "Python 3 (ipykernel)",
   "language": "python",
   "name": "python3"
  },
  "language_info": {
   "codemirror_mode": {
    "name": "ipython",
    "version": 3
   },
   "file_extension": ".py",
   "mimetype": "text/x-python",
   "name": "python",
   "nbconvert_exporter": "python",
   "pygments_lexer": "ipython3",
   "version": "3.11.9"
  }
 },
 "nbformat": 4,
 "nbformat_minor": 4
}
