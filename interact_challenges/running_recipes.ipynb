{
 "cells": [
  {
   "cell_type": "markdown",
   "metadata": {
    "id": "tC4jbs5yqzYw"
   },
   "source": [
    "# The `config.yaml`"
   ]
  },
  {
   "cell_type": "markdown",
   "metadata": {
    "id": "ffET3AfZFKPt"
   },
   "source": [
    "The tools and recipes included in the [Clarity/Cadenza](https://github.com/claritychallenge/clarity) repository have been designed to be integrated into Python scripts that entrants may use or adapt according to their needs. However, for convenience, the baseline Cadenza tools can also be accessed via the command line interface (CLI) through shell scripts.\n",
    "\n",
    "The Python and shell scripts included in the repository make use of [hydra](https://hydra.cc/) and [Submitit](https://hydra.cc/docs/plugins/submitit_launcher/), two technologies which streamline the configuration and parallel operation of python code on both local and high-performance computing (HPC) environments.\n",
    "\n",
    "The use of Hydra for configuration allows the existing shell scripts to be easily redirected to include new audio data and modify the various parameters of the recipe."
   ]
  },
  {
   "cell_type": "markdown",
   "metadata": {
    "id": "jWFEskB3HgGM"
   },
   "source": [
    "## Inspecting Existing Configuration\n",
    "\n",
    "All baselines take configurable variables from yaml files in the same directory as the shell script. In Cadenza, these files are typically named as `config.yaml`. However, other names may be used if more than one config file is needed."
   ]
  },
  {
   "cell_type": "markdown",
   "metadata": {},
   "source": [
    "Let's inspect the contents of a typical config file. The parameters may change depending on the challenge. However, all config files will have a `path` section, information about the `sample rates`, amplification parameters, evaluation parameters, hydra dependant parameters and others depending on te challenge."
   ]
  },
  {
   "cell_type": "markdown",
   "metadata": {},
   "source": [
    "```yaml\n",
    "# Path Section\n",
    "path:\n",
    "  root: ../../cadenza_data_demo/cad1/task1\n",
    "  metadata_dir: ${path.root}/metadata\n",
    "  music_dir: ${path.root}/audio/musdb18hq\n",
    "  music_file: ${path.metadata_dir}/musdb18.valid.json\n",
    "  listeners_file: ${path.metadata_dir}/listeners.valid.json\n",
    "  music_segments_test_file: ${path.metadata_dir}/musdb18.segments.test.json\n",
    "  exp_folder: ./exp_${separator.model} # folder to store enhanced signals and final results\n",
    "\n",
    "\n",
    "# Sample rates:\n",
    "sample_rate: 44100       # sample rate of the input mixture\n",
    "stem_sample_rate: 24000  # sample rate output stems\n",
    "remix_sample_rate: 32000 # sample rate for output remixed signal\n",
    "\n",
    "# Amplification:\n",
    "nalr:\n",
    "  nfir: 220\n",
    "  sample_rate: ${sample_rate}\n",
    "\n",
    "apply_compressor: False\n",
    "compressor:\n",
    "  threshold: 0.35\n",
    "  attenuation: 0.1\n",
    "  attack: 50\n",
    "  release: 1000\n",
    "  rms_buffer_size: 0.064\n",
    "\n",
    "# Evaluation\n",
    "evaluate:\n",
    "  set_random_seed: True\n",
    "  small_test: False\n",
    "  batch_size: 1  # Number of batches\n",
    "  batch: 0       # Batch number to evaluate\n",
    "\n",
    "\n",
    "# Others\n",
    "team_id: T001\n",
    "\n",
    "soft_clip: True\n",
    "\n",
    "separator:\n",
    "  model: demucs   # demucs or openunmix\n",
    "  device: ~\n",
    "\n",
    "# hydra config\n",
    "hydra:\n",
    "  run:\n",
    "    dir: ${path.exp_folder}\n",
    "```"
   ]
  },
  {
   "cell_type": "markdown",
   "metadata": {
    "id": "PorM62C9HpQq"
   },
   "source": [
    "## Overriding a hydra config file\n",
    "\n",
    "The general form for overriding a parameter in the `CLI` is dot indexed. For the following entry in a `config.yaml` file:\n",
    "\n",
    "```yaml\n",
    "A:\n",
    "  B:\n",
    "    parameter_0: some_value\n",
    "    parameter_1: some_other_value\n",
    "```\n",
    "\n",
    "The `CLI` syntax to override those values would be:\n",
    "\n",
    "```bash\n",
    "user:~$ python myPythonScript.py A.B.parameter_0=\"new_value\" A.B.parameter_1=\"another_new_value\"\n",
    "```\n",
    "\n",
    "In the Clarity/Cadenza baselines, the enhancement and evaluation scripts share the same config file, which simplifies changes in the configuration. These parameters may include:\n",
    "\n",
    "* Paths for the locations of audio files, metadata and the saving location for the generated files\n",
    "* Parameters for the hearing aid amplification: NAL-R or Multiband Dynamic Range Compressor\n",
    "* Parameters for the challenge evaluator\n",
    "* Parameters for Hydra to run\n",
    "\n",
    "One parameter that must be always be set is `path.root`. This parameter points to where the dataset is located in your system. This is the only parameter that must be set for the scripts to run. All other parameters have default values. \n",
    "\n",
    "e.g.,\n",
    "\n",
    "```bash\n",
    "user:~$ python myPythonScript.py path.root='/path/to/root/of/dataset'\n",
    "```"
   ]
  },
  {
   "cell_type": "markdown",
   "metadata": {
    "id": "oCGGqlrjIo9w"
   },
   "source": [
    "## Shell Scripts\n",
    "\n",
    "Typically, as stated above, all the work is done within python with configurable variables supplied by a `config.yaml` file, which is parsed by Hydra inside the python code.\n",
    "\n",
    "The execution of this code is performed in the CLI and new configuration variable values are supplied as arguments to override defaults."
   ]
  },
  {
   "cell_type": "code",
   "execution_count": null,
   "metadata": {},
   "outputs": [],
   "source": []
  }
 ],
 "metadata": {
  "colab": {
   "provenance": []
  },
  "kernelspec": {
   "display_name": "Python 3 (ipykernel)",
   "language": "python",
   "name": "python3"
  },
  "language_info": {
   "codemirror_mode": {
    "name": "ipython",
    "version": 3
   },
   "file_extension": ".py",
   "mimetype": "text/x-python",
   "name": "python",
   "nbconvert_exporter": "python",
   "pygments_lexer": "ipython3",
   "version": "3.11.9"
  }
 },
 "nbformat": 4,
 "nbformat_minor": 4
}
