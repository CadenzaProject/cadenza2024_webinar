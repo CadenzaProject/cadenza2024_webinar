{
 "cells": [
  {
   "cell_type": "markdown",
   "metadata": {
    "id": "H9xz0X7bn6qt"
   },
   "source": [
    "# The Cadenza codebase\n",
    "\n",
    "This tutorial walks you through the process of installing the Clarity/Cadenza Python package.\n",
    "\n",
    "<video controls muted=\"true\" loop=\"true\" width=\"500\">\n",
    "    <source src=\"../_static/videos/codebase.mp4\" type=\"video/mp4\">\n",
    "</video>\n"
   ]
  },
  {
   "cell_type": "markdown",
   "metadata": {
    "id": "Pq2bO-rVoEpx"
   },
   "source": [
    "## Download and install the Clarity/Cadenza Python package\n",
    "\n",
    "Clarity and Cadenza challenges tools can be found at the Clarity GitHub [website](https://github.com/claritychallenge/clarity).\n",
    "The tools are available as a Python package and can be installed using pip.\n",
    "\n",
    "```{image} ../_static/figures/pyclarity.png\n",
    ":alt: PyClarity\n",
    ":class: bg-primary mb-1\n",
    ":width: 600px\n",
    ":align: center\n",
    "```\n",
    "\n",
    "### Tag policy\n",
    "\n",
    "The Clarity/Cadenza package is versioned using tags. The tag policy is as follows:\n",
    "\n",
    "- The `main` branch is the development branch. This branch contains the latest version of the code \n",
    "- Each `tag` corresponds to a specific challenge.\n",
    "\n",
    "| Challenge   | Tag Version |\n",
    "|:------------|:-----------:|\n",
    "| CAD2        |   v0.6.1    |\n",
    "| ICASSP 2024 |   v0.4.1    |\n",
    "| CAD1        |   v0.3.4    |\n"
   ]
  },
  {
   "cell_type": "markdown",
   "metadata": {
    "id": "GUJgkjt3pB8w"
   },
   "source": [
    "To work with the Clarity/Cadenza projects, we recommend to create a clean Python environment.\n",
    "\n",
    "You can create a new environment using conda as:\n",
    "\n",
    "```bash\n",
    "print(\"Creating the environment...\")\n",
    "conda create --quiet --yes -n clarity python=3.10\n",
    "\n",
    "print(\"Activating the environment...\")\n",
    "conda activate clarity\n",
    "\n",
    "print(\"Cloning git repo...\")\n",
    "git clone --quiet https://github.com/claritychallenge/clarity.git\n",
    "```\n",
    "\n",
    "This will install the last version of PyClarity. To install a tagged version, for example, v0.6.0, you can clone the repository as:\n",
    "\n",
    "```bash\n",
    "git clone --depth 1 --branch v0.6.0 https://github.com/claritychallenge/clarity.git\n",
    "```"
   ]
  },
  {
   "cell_type": "markdown",
   "metadata": {
    "id": "tlwvhldyoV6a"
   },
   "source": [
    "This will have made a directory called <code>clarity</code> storing the repository code.\n",
    "Now we can install the Clarity tools.\n",
    "\n",
    "```bash\n",
    "\n",
    "print(\"Changing directory...\")\n",
    "cd clarity\n",
    "\n",
    "print(\"Installing Clarity tools\")\n",
    "pip install -e .\n",
    "```"
   ]
  },
  {
   "cell_type": "markdown",
   "metadata": {
    "id": "C2bNtFQLp4ok"
   },
   "source": [
    "&#x1F389; Congratulations!!! &#x1F389; Now you are ready to start working on Cadenza challenges."
   ]
  },
  {
   "cell_type": "code",
   "execution_count": null,
   "metadata": {},
   "outputs": [],
   "source": []
  }
 ],
 "metadata": {
  "colab": {
   "provenance": []
  },
  "kernelspec": {
   "display_name": "Python 3 (ipykernel)",
   "language": "python",
   "name": "python3"
  },
  "language_info": {
   "codemirror_mode": {
    "name": "ipython",
    "version": 3
   },
   "file_extension": ".py",
   "mimetype": "text/x-python",
   "name": "python",
   "nbconvert_exporter": "python",
   "pygments_lexer": "ipython3",
   "version": "3.11.9"
  }
 },
 "nbformat": 4,
 "nbformat_minor": 4
}
