{
 "nbformat": 4,
 "nbformat_minor": 0,
 "metadata": {
  "colab": {
   "provenance": []
  },
  "kernelspec": {
   "name": "python3",
   "display_name": "Python 3 (ipykernel)",
   "language": "python"
  },
  "language_info": {
   "name": "python"
  }
 },
 "cells": [
  {
   "cell_type": "markdown",
   "source": "# Running a Cadenza Recipe",
   "metadata": {
    "id": "tC4jbs5yqzYw"
   }
  },
  {
   "cell_type": "markdown",
   "source": [
    "The tools and recipes included in the [Clarity/Cadenza](https://github.com/claritychallenge/clarity) repository have been designed to be integrated into Python scripts that entrants may use to generate custom datasets or to expand the default datasets using new audio or varying data creation parameters. However, for convenience, the baseline Clarity/Cadenza tools can also be accessed via the command line interface (CLI) through shell scripts.\n",
    "\n",
    "The Python and shell scripts included in the repository make use of [hydra](https://hydra.cc/) and [Submitit](https://hydra.cc/docs/plugins/submitit_launcher/), two technologies which streamline the configuration and parallel operation of python code on both local and high-performance computing (HPC) environments.\n",
    "\n",
    "The use of Hydra for configuration allows the existing shell scripts to be easily redirected to include new audio data and modify the various parameters of the recipe."
   ],
   "metadata": {
    "id": "ffET3AfZFKPt"
   }
  },
  {
   "cell_type": "markdown",
   "source": [
    "---\n",
    "\n",
    "## Setting the Location of the Project\n",
    "\n",
    "For convenience, we are setting an environment variable with the location of the root working directory of the project. This variable will be used in various places throughout the tutorial. Please change this value to reflect where you have installed this notebook on your system."
   ],
   "metadata": {
    "id": "qdqZ0zD2Fjnn"
   }
  },
  {
   "metadata": {
    "ExecuteTime": {
     "end_time": "2024-08-21T08:29:26.943692Z",
     "start_time": "2024-08-21T08:29:26.931459Z"
    }
   },
   "cell_type": "code",
   "source": [
    "import os\n",
    "os.environ[\"NBOOKROOT\"] = os.getcwd()\n",
    "os.getenv(\"NBOOKROOT\")"
   ],
   "outputs": [
    {
     "data": {
      "text/plain": [
       "'/home/gerardoroadabike/Extended/Projects/cadenza_tutorials/getting_started'"
      ]
     },
     "execution_count": 1,
     "metadata": {},
     "output_type": "execute_result"
    }
   ],
   "execution_count": 1
  },
  {
   "cell_type": "markdown",
   "source": [
    "## Cloning the Clarity Repository\n",
    "We first need to install the Clarity package."
   ],
   "metadata": {
    "id": "pajpylpbFud6"
   }
  },
  {
   "cell_type": "code",
   "source": [
    "print(\"Cloning git repo...\")\n",
    "!git clone --quiet https://github.com/claritychallenge/clarity.git\n",
    "%cd clarity\n",
    "%pip install -e .\n",
    "import os\n",
    "import sys\n",
    "\n",
    "sys.path.append(f'{os.getenv(\"NBOOKROOT\")}/clarity')\n",
    "from IPython.display import clear_output\n",
    "\n",
    "clear_output()\n",
    "print(\"Repository installed\")"
   ],
   "metadata": {
    "id": "zL0yLZUvFr9P",
    "colab": {
     "base_uri": "https://localhost:8080/"
    },
    "outputId": "7434b909-ac71-4f3f-c163-2d5870317e9c"
   },
   "execution_count": 2,
   "outputs": [
    {
     "name": "stdout",
     "output_type": "stream",
     "text": [
      "Repository installed\n"
     ]
    }
   ]
  },
  {
   "cell_type": "markdown",
   "source": [
    "## Get the demo data\n",
    "\n",
    "We will be using music audio and listener metadata from CAD1."
   ],
   "metadata": {
    "id": "8pXJVSt-F-NN"
   }
  },
  {
   "cell_type": "code",
   "source": [
    "!gdown 10SfuZR7yVlVO6RwNUc3kPeJHGiwpN3VS\n",
    "!mv cadenza_data_demo.tar.xz recipes/cad1/task1/baseline\n",
    "!tar -xvf cadenza_data_demo.tar.xz\n",
    "\n",
    "clear_output()\n",
    "print(\"Data installed\")"
   ],
   "metadata": {
    "id": "TpG-bGs8Fzgl",
    "colab": {
     "base_uri": "https://localhost:8080/"
    },
    "outputId": "438666a1-ac21-4532-a340-baefee85202d"
   },
   "execution_count": 3,
   "outputs": [
    {
     "name": "stdout",
     "output_type": "stream",
     "text": [
      "Data installed\n"
     ]
    }
   ]
  },
  {
   "cell_type": "markdown",
   "source": [
    "## Changing working Directory\n",
    "\n",
    "Next, we change working directory to the location of the shell scripts we wish to run."
   ],
   "metadata": {
    "id": "a0gQKwx8GnfD"
   }
  },
  {
   "cell_type": "code",
   "source": "%cd {os.environ['NBOOKROOT']}/clarity/recipes/cad1/task1/baseline",
   "metadata": {
    "id": "fopV37z6GSoO",
    "colab": {
     "base_uri": "https://localhost:8080/",
     "height": 53
    },
    "outputId": "791191b3-6176-427c-bc62-63cd45196b57",
    "ExecuteTime": {
     "end_time": "2024-08-21T08:31:37.640819Z",
     "start_time": "2024-08-21T08:31:37.637246Z"
    }
   },
   "outputs": [
    {
     "name": "stdout",
     "output_type": "stream",
     "text": [
      "/home/gerardoroadabike/Extended/Projects/cadenza_tutorials/getting_started/clarity/recipes/cad1/task1/baseline\n"
     ]
    }
   ],
   "execution_count": 6
  },
  {
   "cell_type": "markdown",
   "source": [
    "## Inspecting Existing Configuration\n",
    "\n",
    "All of the included shell scripts take configurable variables from the yaml files in the same directory as the shell script. In Cadenza, these files are typically named as `config.yaml`. However, other names may be used if more than one shell script is in a directory.\n",
    "\n",
    "Let's inspect the contents of the config file:"
   ],
   "metadata": {
    "id": "jWFEskB3HgGM"
   }
  },
  {
   "metadata": {},
   "cell_type": "markdown",
   "source": [
    "```yaml\n",
    "path:\n",
    "  root: ../../cadenza_data_demo/cad1/task1\n",
    "  metadata_dir: ${path.root}/metadata\n",
    "  music_dir: ${path.root}/audio/musdb18hq\n",
    "  music_file: ${path.metadata_dir}/musdb18.valid.json\n",
    "  listeners_file: ${path.metadata_dir}/listeners.valid.json\n",
    "  music_segments_test_file: ${path.metadata_dir}/musdb18.segments.test.json\n",
    "  exp_folder: ./exp_${separator.model} # folder to store enhanced signals and final results\n",
    "\n",
    "team_id: T001\n",
    "\n",
    "sample_rate: 44100       # sample rate of the input mixture\n",
    "stem_sample_rate: 24000  # sample rate output stems\n",
    "remix_sample_rate: 32000 # sample rate for output remixed signal\n",
    "\n",
    "nalr:\n",
    "  nfir: 220\n",
    "  sample_rate: ${sample_rate}\n",
    "\n",
    "apply_compressor: False\n",
    "compressor:\n",
    "  threshold: 0.35\n",
    "  attenuation: 0.1\n",
    "  attack: 50\n",
    "  release: 1000\n",
    "  rms_buffer_size: 0.064\n",
    "\n",
    "soft_clip: True\n",
    "\n",
    "separator:\n",
    "  model: demucs   # demucs or openunmix\n",
    "  device: ~\n",
    "\n",
    "evaluate:\n",
    "  set_random_seed: True\n",
    "  small_test: False\n",
    "  batch_size: 1  # Number of batches\n",
    "  batch: 0       # Batch number to evaluate\n",
    "\n",
    "# hydra config\n",
    "hydra:\n",
    "  run:\n",
    "    dir: ${path.exp_folder}\n",
    "```"
   ]
  },
  {
   "cell_type": "markdown",
   "source": [
    "## Overriding a hydra config file\n",
    "\n",
    "The general form for overriding a parameter in the `CLI` is dot indexed. For the following entry in a `config.yaml` file:\n",
    "\n",
    "```yaml\n",
    "A:\n",
    "  B:\n",
    "    parameter_0: some_value\n",
    "    parameter_1: some_other_value\n",
    "```\n",
    "\n",
    "The `CLI` syntax to override those values would be:\n",
    "\n",
    "```bash\n",
    "user:~$ python myPythonScript.py A.B.parameter_0=\"new_value\" A.B.parameter_1=\"another_new_value\"\n",
    "```\n",
    "\n",
    "In the Clarity/Cadenza baselines, the enhancement and evaluation scripts share the same config file, which simplifies changes in the configuration. These parameters may include:\n",
    "\n",
    "* Paths for the locations of audio files, metadata and the saving location for the generated files\n",
    "* Parameters for the hearing aid amplification: NAL-R or Multiband Dynamic Range Compressor\n",
    "* Parameters for the challenge evaluator\n",
    "* Parameters for Hydra to run\n",
    "\n",
    "One parameter that must be always be set is `path.root`. This parameter points to where the dataset is located in your system. This is the only parameter that must be set for the scripts to run. All other parameters have default values. \n",
    "\n",
    "e.g.,\n",
    "\n",
    "```bash\n",
    "user:~$ python myPythonScript.py path.root='/path/to/root/of/dataset'\n",
    "```"
   ],
   "metadata": {
    "id": "PorM62C9HpQq"
   }
  },
  {
   "cell_type": "markdown",
   "source": [
    "## Shell Scripts\n",
    "\n",
    "Typically, as stated above, all the work is done within python with configurable variables supplied by a `config.yaml` file, which is parsed by Hydra inside the python code.\n",
    "\n",
    "The execution of this code is performed in the CLI and new configuration variable values are supplied as arguments to override defaults."
   ],
   "metadata": {
    "id": "oCGGqlrjIo9w"
   }
  },
  {
   "metadata": {},
   "cell_type": "code",
   "outputs": [],
   "execution_count": null,
   "source": ""
  }
 ]
}
