{
 "cells": [
  {
   "cell_type": "markdown",
   "id": "7749f050-3e73-41a1-ba51-ae69bc67c3ff",
   "metadata": {},
   "source": [
    "# Hearing Aid Audio Quality Index (HAAQI)"
   ]
  },
  {
   "cell_type": "markdown",
   "id": "e6d2c01a-e659-4063-b5f2-50dda99dd2df",
   "metadata": {},
   "source": [
    "In summary, HAAQI is an intrusive metric that requires the processed and reference signals. In HAAQI, the reference signal is amplified by using NAL-R prescripted gain formula {cite}`byrne1986national`. HAAQI performs a seies of correlation between the reference and processed signals, therefore, it is expected that the processed signal has the same amplification. If the amplifications are not the same, the HAAQI score will be affected. Let's see this in an example."
   ]
  },
  {
   "cell_type": "markdown",
   "id": "a93c4300-1f36-4abe-b190-9633944f0acd",
   "metadata": {},
   "source": [
    "The HAAQI function is located in `clarity/evaluator/haaqi/haaqi.py`."
   ]
  },
  {
   "cell_type": "markdown",
   "id": "da63c796-4379-449f-91a3-f361f84ca8a1",
   "metadata": {},
   "source": [
    "The parameters are:\n",
    "* processed_signal: the processed signal\n",
    "* reference_signal: the reference signal\n",
    "* processed_sample_rate: the sampling rate of the processed signal\n",
    "* reference_sample_rate: the sampling rate of the reference signal\n",
    "* audiogram: an audiogram object containing the centre frequencies and hearing loss levels in dB.\n",
    "* ecualisation: a parameter that indicates if the reference signal already has the amplification applied or not.\n",
    "* level1: level of the reference signal in dB SPL that corresponds to a signal RMS = 1."
   ]
  },
  {
   "cell_type": "markdown",
   "id": "12c38fc6-ff4e-48d6-afaf-fae5a0d12b04",
   "metadata": {},
   "source": [
    "In the next example, we will create a random signal and compute 2 scores:\n",
    "1. The processed signal = reference signal with both having NAL-R applied\n",
    "2. The processed signal = reference signal with with only the reference having NAL-R applied "
   ]
  },
  {
   "cell_type": "code",
   "execution_count": 10,
   "id": "7fa4c828-37ba-49e3-b723-5c7d3499f48c",
   "metadata": {},
   "outputs": [],
   "source": [
    "import numpy as np\n",
    "from clarity.enhancer.nalr import NALR\n",
    "from clarity.utils.audiogram import Audiogram\n",
    "from clarity.evaluator.haaqi import compute_haaqi\n",
    "\n",
    "audiogram = Audiogram(\n",
    "    levels=[20, 20, 30, 30, 40, 40, 50, 60],\n",
    "    frequencies=[250, 500, 1000, 2000, 3000, 4000, 6000, 8000]\n",
    ")\n",
    "\n",
    "sample_rate = 16000\n",
    "\n",
    "enhancer = NALR(\n",
    "  nfir=220,\n",
    "  sample_rate=sample_rate,\n",
    ")\n",
    "nalr_fir, _ = enhancer.build(audiogram)\n",
    "\n",
    "signal = np.random.randn(sample_rate * 10)"
   ]
  },
  {
   "cell_type": "markdown",
   "id": "9a62cc0d-7755-4bda-b191-a96c4020a43a",
   "metadata": {},
   "source": [
    "**1. Reference and processed with amplification**"
   ]
  },
  {
   "cell_type": "code",
   "execution_count": 15,
   "id": "c0f7f123-1271-4619-babb-fede874dc071",
   "metadata": {},
   "outputs": [
    {
     "data": {
      "text/plain": [
       "0.9989907775620487"
      ]
     },
     "execution_count": 15,
     "metadata": {},
     "output_type": "execute_result"
    }
   ],
   "source": [
    "# Apply the NAL-R amplification to each signal\n",
    "\n",
    "processed = enhancer.apply(nalr_fir, signal)\n",
    "reference = enhancer.apply(nalr_fir, signal)\n",
    "\n",
    "# Compute HAAQI\n",
    "compute_haaqi(\n",
    "    processed_signal=processed,\n",
    "    reference_signal=reference,\n",
    "    processed_sample_rate=sample_rate,\n",
    "    reference_sample_rate=sample_rate,\n",
    "    audiogram=audiogram,\n",
    "    equalisation=2, # reference already have amplification\n",
    "    level1=65\n",
    ")"
   ]
  },
  {
   "cell_type": "markdown",
   "id": "48c1cc19-2fc3-4b94-baaf-25ecc6e19767",
   "metadata": {},
   "source": [
    "**2. Processed signal doesn't have amplification**"
   ]
  },
  {
   "cell_type": "code",
   "execution_count": 16,
   "id": "988b471a-7e4d-446b-8f6a-aee56f62dbc9",
   "metadata": {},
   "outputs": [
    {
     "data": {
      "text/plain": [
       "0.8512483872039563"
      ]
     },
     "execution_count": 16,
     "metadata": {},
     "output_type": "execute_result"
    }
   ],
   "source": [
    "processed = signal.copy()\n",
    "reference = enhancer.apply(nalr_fir, signal)\n",
    "\n",
    "# Compute HAAQI\n",
    "compute_haaqi(\n",
    "    processed_signal=processed,\n",
    "    reference_signal=reference,\n",
    "    processed_sample_rate=sample_rate,\n",
    "    reference_sample_rate=sample_rate,\n",
    "    audiogram=audiogram,\n",
    "    equalisation=2, # reference already have amplification\n",
    "    level1=65\n",
    ")"
   ]
  },
  {
   "cell_type": "markdown",
   "id": "49d7b1a8-21b6-40ce-b218-ee60c7766a01",
   "metadata": {},
   "source": [
    "From the example above, one can see that the best score is not exactly one but very close. Also, is the signals varies in the amplification, the score can reduce in 0.15 HAAQI in this ideal scenario.  "
   ]
  },
  {
   "cell_type": "markdown",
   "id": "40606060-0e76-40b4-8593-cc1717ffda96",
   "metadata": {},
   "source": [
    "## Can I use other amplifications?"
   ]
  },
  {
   "cell_type": "markdown",
   "id": "0e24ff85-157c-49d9-aed7-7f54b4c3dfa2",
   "metadata": {},
   "source": [
    "The short answer is Yes.\n",
    "\n",
    "There is no reason why your HAAQI score would be negativelly affected if you use a different amplification. Just mind that you need to apply such amplification to the reference in advance (like we did) and both signals must have the same aplification.\n",
    "\n",
    "In PyClarity, we included a multiband dynamic band compressor (MBC) that can be used for the amplification instead of NAL-R. To learn more about our MBC, please read the [MBC documentation](../signal_processing/mbc)."
   ]
  }
 ],
 "metadata": {
  "kernelspec": {
   "display_name": "Python 3 (ipykernel)",
   "language": "python",
   "name": "python3"
  },
  "language_info": {
   "codemirror_mode": {
    "name": "ipython",
    "version": 3
   },
   "file_extension": ".py",
   "mimetype": "text/x-python",
   "name": "python",
   "nbconvert_exporter": "python",
   "pygments_lexer": "ipython3",
   "version": "3.10.13"
  }
 },
 "nbformat": 4,
 "nbformat_minor": 5
}
